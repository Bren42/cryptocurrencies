{
 "cells": [
  {
   "cell_type": "code",
   "execution_count": 3,
   "metadata": {
    "collapsed": true,
    "pycharm": {
     "name": "#%%\n"
    }
   },
   "outputs": [],
   "source": [
    "# import dependencies\n",
    "import pandas as pd\n",
    "from sklearn.preprocessing import StandardScaler\n",
    "from sklearn.decomposition import PCA\n",
    "from sklearn.cluster import KMeans\n",
    "import hvplot.pandas"
   ]
  },
  {
   "cell_type": "code",
   "execution_count": 9,
   "outputs": [
    {
     "data": {
      "text/plain": "   sepal_length  sepal_width  petal_length  petal_width\n0           5.1          3.5           1.4          0.2\n1           4.9          3.0           1.4          0.2\n2           4.7          3.2           1.3          0.2\n3           4.6          3.1           1.5          0.2\n4           5.0          3.6           1.4          0.2",
      "text/html": "<div>\n<style scoped>\n    .dataframe tbody tr th:only-of-type {\n        vertical-align: middle;\n    }\n\n    .dataframe tbody tr th {\n        vertical-align: top;\n    }\n\n    .dataframe thead th {\n        text-align: right;\n    }\n</style>\n<table border=\"1\" class=\"dataframe\">\n  <thead>\n    <tr style=\"text-align: right;\">\n      <th></th>\n      <th>sepal_length</th>\n      <th>sepal_width</th>\n      <th>petal_length</th>\n      <th>petal_width</th>\n    </tr>\n  </thead>\n  <tbody>\n    <tr>\n      <th>0</th>\n      <td>5.1</td>\n      <td>3.5</td>\n      <td>1.4</td>\n      <td>0.2</td>\n    </tr>\n    <tr>\n      <th>1</th>\n      <td>4.9</td>\n      <td>3.0</td>\n      <td>1.4</td>\n      <td>0.2</td>\n    </tr>\n    <tr>\n      <th>2</th>\n      <td>4.7</td>\n      <td>3.2</td>\n      <td>1.3</td>\n      <td>0.2</td>\n    </tr>\n    <tr>\n      <th>3</th>\n      <td>4.6</td>\n      <td>3.1</td>\n      <td>1.5</td>\n      <td>0.2</td>\n    </tr>\n    <tr>\n      <th>4</th>\n      <td>5.0</td>\n      <td>3.6</td>\n      <td>1.4</td>\n      <td>0.2</td>\n    </tr>\n  </tbody>\n</table>\n</div>"
     },
     "execution_count": 9,
     "metadata": {},
     "output_type": "execute_result"
    }
   ],
   "source": [
    "# load the preprocessed iris dataframe\n",
    "file_path = \"../cryptocurrencies/new_iris_data.csv\"\n",
    "df_iris = pd.read_csv(file_path)\n",
    "df_iris= df_iris[['sepal_length', 'sepal_width', 'petal_length', 'petal_width']]\n",
    "df_iris.head()"
   ],
   "metadata": {
    "collapsed": false,
    "pycharm": {
     "name": "#%%\n"
    }
   }
  },
  {
   "cell_type": "code",
   "execution_count": 10,
   "outputs": [
    {
     "name": "stdout",
     "output_type": "stream",
     "text": [
      "[[-0.90068117  1.03205722 -1.3412724  -1.31297673]\n",
      " [-1.14301691 -0.1249576  -1.3412724  -1.31297673]\n",
      " [-1.38535265  0.33784833 -1.39813811 -1.31297673]\n",
      " [-1.50652052  0.10644536 -1.2844067  -1.31297673]\n",
      " [-1.02184904  1.26346019 -1.3412724  -1.31297673]]\n"
     ]
    }
   ],
   "source": [
    "# standardize the data with Standard Scaler\n",
    "iris_scaled = StandardScaler().fit_transform(df_iris)\n",
    "print(iris_scaled[0:5])"
   ],
   "metadata": {
    "collapsed": false,
    "pycharm": {
     "name": "#%%\n"
    }
   }
  },
  {
   "cell_type": "code",
   "execution_count": 11,
   "outputs": [],
   "source": [
    "# initialize the PCA model\n",
    "\n",
    "pca = PCA(n_components=2)"
   ],
   "metadata": {
    "collapsed": false,
    "pycharm": {
     "name": "#%%\n"
    }
   }
  },
  {
   "cell_type": "code",
   "execution_count": 12,
   "outputs": [],
   "source": [
    "# get two principal components for the iris data\n",
    "iris_pca = pca.fit_transform(iris_scaled)"
   ],
   "metadata": {
    "collapsed": false,
    "pycharm": {
     "name": "#%%\n"
    }
   }
  },
  {
   "cell_type": "code",
   "execution_count": 13,
   "outputs": [
    {
     "data": {
      "text/plain": "   Principal Component 1  Principal Component 2\n0              -2.264542               0.505704\n1              -2.086426              -0.655405\n2              -2.367950              -0.318477\n3              -2.304197              -0.575368\n4              -2.388777               0.674767",
      "text/html": "<div>\n<style scoped>\n    .dataframe tbody tr th:only-of-type {\n        vertical-align: middle;\n    }\n\n    .dataframe tbody tr th {\n        vertical-align: top;\n    }\n\n    .dataframe thead th {\n        text-align: right;\n    }\n</style>\n<table border=\"1\" class=\"dataframe\">\n  <thead>\n    <tr style=\"text-align: right;\">\n      <th></th>\n      <th>Principal Component 1</th>\n      <th>Principal Component 2</th>\n    </tr>\n  </thead>\n  <tbody>\n    <tr>\n      <th>0</th>\n      <td>-2.264542</td>\n      <td>0.505704</td>\n    </tr>\n    <tr>\n      <th>1</th>\n      <td>-2.086426</td>\n      <td>-0.655405</td>\n    </tr>\n    <tr>\n      <th>2</th>\n      <td>-2.367950</td>\n      <td>-0.318477</td>\n    </tr>\n    <tr>\n      <th>3</th>\n      <td>-2.304197</td>\n      <td>-0.575368</td>\n    </tr>\n    <tr>\n      <th>4</th>\n      <td>-2.388777</td>\n      <td>0.674767</td>\n    </tr>\n  </tbody>\n</table>\n</div>"
     },
     "execution_count": 13,
     "metadata": {},
     "output_type": "execute_result"
    }
   ],
   "source": [
    "# transform PCA data to a dataframe\n",
    "df_iris_pca = pd.DataFrame(\n",
    "    data = iris_pca, columns=[\"Principal Component 1\", \"Principal Component 2\"]\n",
    ")\n",
    "df_iris_pca.head()"
   ],
   "metadata": {
    "collapsed": false,
    "pycharm": {
     "name": "#%%\n"
    }
   }
  },
  {
   "cell_type": "code",
   "execution_count": 14,
   "outputs": [
    {
     "data": {
      "text/plain": "array([0.72770452, 0.23030523])"
     },
     "execution_count": 14,
     "metadata": {},
     "output_type": "execute_result"
    }
   ],
   "source": [
    "# fetch the explained variance\n",
    "pca.explained_variance_ratio_"
   ],
   "metadata": {
    "collapsed": false,
    "pycharm": {
     "name": "#%%\n"
    }
   }
  },
  {
   "cell_type": "code",
   "execution_count": 15,
   "outputs": [
    {
     "data": {},
     "metadata": {},
     "output_type": "display_data"
    },
    {
     "data": {
      "text/html": "<div id='1002'>\n  <div class=\"bk-root\" id=\"e542a318-e395-46fa-8016-154e96e559f6\" data-root-id=\"1002\"></div>\n</div>\n<script type=\"application/javascript\">(function(root) {\n  function embed_document(root) {\n    var docs_json = {\"2f95ffe5-7a2d-4812-ac86-6d712055ef01\":{\"defs\":[{\"extends\":null,\"module\":null,\"name\":\"ReactiveHTML1\",\"overrides\":[],\"properties\":[]},{\"extends\":null,\"module\":null,\"name\":\"FlexBox1\",\"overrides\":[],\"properties\":[{\"default\":\"flex-start\",\"kind\":null,\"name\":\"align_content\"},{\"default\":\"flex-start\",\"kind\":null,\"name\":\"align_items\"},{\"default\":\"row\",\"kind\":null,\"name\":\"flex_direction\"},{\"default\":\"wrap\",\"kind\":null,\"name\":\"flex_wrap\"},{\"default\":\"flex-start\",\"kind\":null,\"name\":\"justify_content\"}]},{\"extends\":null,\"module\":null,\"name\":\"GridStack1\",\"overrides\":[],\"properties\":[{\"default\":\"warn\",\"kind\":null,\"name\":\"mode\"},{\"default\":null,\"kind\":null,\"name\":\"ncols\"},{\"default\":null,\"kind\":null,\"name\":\"nrows\"},{\"default\":true,\"kind\":null,\"name\":\"allow_resize\"},{\"default\":true,\"kind\":null,\"name\":\"allow_drag\"},{\"default\":[],\"kind\":null,\"name\":\"state\"}]},{\"extends\":null,\"module\":null,\"name\":\"click1\",\"overrides\":[],\"properties\":[{\"default\":\"\",\"kind\":null,\"name\":\"terminal_output\"},{\"default\":\"\",\"kind\":null,\"name\":\"debug_name\"},{\"default\":0,\"kind\":null,\"name\":\"clears\"}]},{\"extends\":null,\"module\":null,\"name\":\"NotificationAreaBase1\",\"overrides\":[],\"properties\":[{\"default\":\"bottom-right\",\"kind\":null,\"name\":\"position\"},{\"default\":0,\"kind\":null,\"name\":\"_clear\"}]},{\"extends\":null,\"module\":null,\"name\":\"NotificationArea1\",\"overrides\":[],\"properties\":[{\"default\":[],\"kind\":null,\"name\":\"notifications\"},{\"default\":\"bottom-right\",\"kind\":null,\"name\":\"position\"},{\"default\":0,\"kind\":null,\"name\":\"_clear\"},{\"default\":[{\"background\":\"#ffc107\",\"icon\":{\"className\":\"fas fa-exclamation-triangle\",\"color\":\"white\",\"tagName\":\"i\"},\"type\":\"warning\"},{\"background\":\"#007bff\",\"icon\":{\"className\":\"fas fa-info-circle\",\"color\":\"white\",\"tagName\":\"i\"},\"type\":\"info\"}],\"kind\":null,\"name\":\"types\"}]},{\"extends\":null,\"module\":null,\"name\":\"Notification\",\"overrides\":[],\"properties\":[{\"default\":null,\"kind\":null,\"name\":\"background\"},{\"default\":3000,\"kind\":null,\"name\":\"duration\"},{\"default\":null,\"kind\":null,\"name\":\"icon\"},{\"default\":\"\",\"kind\":null,\"name\":\"message\"},{\"default\":null,\"kind\":null,\"name\":\"notification_type\"},{\"default\":false,\"kind\":null,\"name\":\"_destroyed\"}]},{\"extends\":null,\"module\":null,\"name\":\"TemplateActions1\",\"overrides\":[],\"properties\":[{\"default\":0,\"kind\":null,\"name\":\"open_modal\"},{\"default\":0,\"kind\":null,\"name\":\"close_modal\"}]},{\"extends\":null,\"module\":null,\"name\":\"MaterialTemplateActions1\",\"overrides\":[],\"properties\":[{\"default\":0,\"kind\":null,\"name\":\"open_modal\"},{\"default\":0,\"kind\":null,\"name\":\"close_modal\"}]}],\"roots\":{\"references\":[{\"attributes\":{\"bottom_units\":\"screen\",\"coordinates\":null,\"fill_alpha\":0.5,\"fill_color\":\"lightgrey\",\"group\":null,\"left_units\":\"screen\",\"level\":\"overlay\",\"line_alpha\":1.0,\"line_color\":\"black\",\"line_dash\":[4,4],\"line_width\":2,\"right_units\":\"screen\",\"syncable\":false,\"top_units\":\"screen\"},\"id\":\"1029\",\"type\":\"BoxAnnotation\"},{\"attributes\":{\"end\":10.0,\"reset_end\":10.0,\"reset_start\":1.0,\"start\":1.0,\"tags\":[[[\"k\",\"k\",null]]]},\"id\":\"1004\",\"type\":\"Range1d\"},{\"attributes\":{\"overlay\":{\"id\":\"1029\"}},\"id\":\"1027\",\"type\":\"BoxZoomTool\"},{\"attributes\":{},\"id\":\"1054\",\"type\":\"AllLabels\"},{\"attributes\":{\"coordinates\":null,\"group\":null,\"text\":\"Elbow Curve\",\"text_color\":\"black\",\"text_font_size\":\"12pt\"},\"id\":\"1008\",\"type\":\"Title\"},{\"attributes\":{\"children\":[{\"id\":\"1003\"},{\"id\":\"1007\"},{\"id\":\"1064\"}],\"margin\":[0,0,0,0],\"name\":\"Row00860\",\"tags\":[\"embedded\"]},\"id\":\"1002\",\"type\":\"Row\"},{\"attributes\":{\"below\":[{\"id\":\"1016\"}],\"center\":[{\"id\":\"1019\"},{\"id\":\"1023\"}],\"height\":300,\"left\":[{\"id\":\"1020\"}],\"margin\":[5,5,5,5],\"min_border_bottom\":10,\"min_border_left\":10,\"min_border_right\":10,\"min_border_top\":10,\"renderers\":[{\"id\":\"1043\"}],\"sizing_mode\":\"fixed\",\"title\":{\"id\":\"1008\"},\"toolbar\":{\"id\":\"1030\"},\"width\":700,\"x_range\":{\"id\":\"1004\"},\"x_scale\":{\"id\":\"1012\"},\"y_range\":{\"id\":\"1005\"},\"y_scale\":{\"id\":\"1014\"}},\"id\":\"1007\",\"subtype\":\"Figure\",\"type\":\"Plot\"},{\"attributes\":{\"coordinates\":null,\"data_source\":{\"id\":\"1037\"},\"glyph\":{\"id\":\"1040\"},\"group\":null,\"hover_glyph\":null,\"muted_glyph\":{\"id\":\"1042\"},\"nonselection_glyph\":{\"id\":\"1041\"},\"selection_glyph\":{\"id\":\"1045\"},\"view\":{\"id\":\"1044\"}},\"id\":\"1043\",\"type\":\"GlyphRenderer\"},{\"attributes\":{\"axis\":{\"id\":\"1016\"},\"coordinates\":null,\"grid_line_color\":null,\"group\":null,\"ticker\":null},\"id\":\"1019\",\"type\":\"Grid\"},{\"attributes\":{},\"id\":\"1053\",\"type\":\"BasicTickFormatter\"},{\"attributes\":{\"callback\":null,\"renderers\":[{\"id\":\"1043\"}],\"tags\":[\"hv_created\"],\"tooltips\":[[\"k\",\"@{k}\"],[\"inertia\",\"@{inertia}\"]]},\"id\":\"1006\",\"type\":\"HoverTool\"},{\"attributes\":{\"line_color\":\"#30a2da\",\"line_width\":2,\"x\":{\"field\":\"k\"},\"y\":{\"field\":\"inertia\"}},\"id\":\"1045\",\"type\":\"Line\"},{\"attributes\":{},\"id\":\"1038\",\"type\":\"Selection\"},{\"attributes\":{\"axis_label\":\"k\",\"coordinates\":null,\"formatter\":{\"id\":\"1048\"},\"group\":null,\"major_label_policy\":{\"id\":\"1049\"},\"ticker\":{\"id\":\"1046\"}},\"id\":\"1016\",\"type\":\"LinearAxis\"},{\"attributes\":{\"axis\":{\"id\":\"1020\"},\"coordinates\":null,\"dimension\":1,\"grid_line_color\":null,\"group\":null,\"ticker\":null},\"id\":\"1023\",\"type\":\"Grid\"},{\"attributes\":{\"data\":{\"inertia\":{\"__ndarray__\":\"YzafYnL2gUArbWBmntZoQJymqsr9Bl1ATfWgT6xnVkDc0qR94pNQQAgzFtg6gkxAKolQDTvuR0DyMOcNVaJDQOS1b3wwFkBA7S2/QpNqPEA=\",\"dtype\":\"float64\",\"order\":\"little\",\"shape\":[10]},\"k\":[1,2,3,4,5,6,7,8,9,10]},\"selected\":{\"id\":\"1038\"},\"selection_policy\":{\"id\":\"1061\"}},\"id\":\"1037\",\"type\":\"ColumnDataSource\"},{\"attributes\":{\"axis_label\":\"inertia\",\"coordinates\":null,\"formatter\":{\"id\":\"1053\"},\"group\":null,\"major_label_policy\":{\"id\":\"1054\"},\"ticker\":{\"id\":\"1021\"}},\"id\":\"1020\",\"type\":\"LinearAxis\"},{\"attributes\":{\"ticks\":[1,2,3,4,5,6,7,8,9,10]},\"id\":\"1046\",\"type\":\"FixedTicker\"},{\"attributes\":{},\"id\":\"1012\",\"type\":\"LinearScale\"},{\"attributes\":{},\"id\":\"1026\",\"type\":\"WheelZoomTool\"},{\"attributes\":{\"tools\":[{\"id\":\"1006\"},{\"id\":\"1024\"},{\"id\":\"1025\"},{\"id\":\"1026\"},{\"id\":\"1027\"},{\"id\":\"1028\"}]},\"id\":\"1030\",\"type\":\"Toolbar\"},{\"attributes\":{},\"id\":\"1061\",\"type\":\"UnionRenderers\"},{\"attributes\":{\"line_alpha\":0.1,\"line_color\":\"#30a2da\",\"line_width\":2,\"x\":{\"field\":\"k\"},\"y\":{\"field\":\"inertia\"}},\"id\":\"1041\",\"type\":\"Line\"},{\"attributes\":{},\"id\":\"1028\",\"type\":\"ResetTool\"},{\"attributes\":{},\"id\":\"1049\",\"type\":\"AllLabels\"},{\"attributes\":{\"margin\":[5,5,5,5],\"name\":\"HSpacer00864\",\"sizing_mode\":\"stretch_width\"},\"id\":\"1003\",\"type\":\"Spacer\"},{\"attributes\":{},\"id\":\"1014\",\"type\":\"LinearScale\"},{\"attributes\":{},\"id\":\"1025\",\"type\":\"PanTool\"},{\"attributes\":{},\"id\":\"1021\",\"type\":\"BasicTicker\"},{\"attributes\":{\"line_alpha\":0.2,\"line_color\":\"#30a2da\",\"line_width\":2,\"x\":{\"field\":\"k\"},\"y\":{\"field\":\"inertia\"}},\"id\":\"1042\",\"type\":\"Line\"},{\"attributes\":{},\"id\":\"1024\",\"type\":\"SaveTool\"},{\"attributes\":{\"margin\":[5,5,5,5],\"name\":\"HSpacer00865\",\"sizing_mode\":\"stretch_width\"},\"id\":\"1064\",\"type\":\"Spacer\"},{\"attributes\":{\"line_color\":\"#30a2da\",\"line_width\":2,\"x\":{\"field\":\"k\"},\"y\":{\"field\":\"inertia\"}},\"id\":\"1040\",\"type\":\"Line\"},{\"attributes\":{},\"id\":\"1048\",\"type\":\"BasicTickFormatter\"},{\"attributes\":{\"source\":{\"id\":\"1037\"}},\"id\":\"1044\",\"type\":\"CDSView\"},{\"attributes\":{\"end\":629.4448064337392,\"reset_end\":629.4448064337392,\"reset_start\":-26.222644744436845,\"start\":-26.222644744436845,\"tags\":[[[\"inertia\",\"inertia\",null]]]},\"id\":\"1005\",\"type\":\"Range1d\"}],\"root_ids\":[\"1002\"]},\"title\":\"Bokeh Application\",\"version\":\"2.4.3\"}};\n    var render_items = [{\"docid\":\"2f95ffe5-7a2d-4812-ac86-6d712055ef01\",\"root_ids\":[\"1002\"],\"roots\":{\"1002\":\"e542a318-e395-46fa-8016-154e96e559f6\"}}];\n    root.Bokeh.embed.embed_items_notebook(docs_json, render_items);\n  }\n  if (root.Bokeh !== undefined && root.Bokeh.Panel !== undefined) {\n    embed_document(root);\n  } else {\n    var attempts = 0;\n    var timer = setInterval(function(root) {\n      if (root.Bokeh !== undefined && root.Bokeh.Panel !== undefined) {\n        clearInterval(timer);\n        embed_document(root);\n      } else if (document.readyState == \"complete\") {\n        attempts++;\n        if (attempts > 200) {\n          clearInterval(timer);\n          console.log(\"Bokeh: ERROR: Unable to run BokehJS code because BokehJS library is missing\");\n        }\n      }\n    }, 25, root)\n  }\n})(window);</script>",
      "application/vnd.holoviews_exec.v0+json": "",
      "text/plain": ":Curve   [k]   (inertia)"
     },
     "execution_count": 15,
     "metadata": {
      "application/vnd.holoviews_exec.v0+json": {
       "id": "1002"
      }
     },
     "output_type": "execute_result"
    }
   ],
   "source": [
    "# Find the best value for K\n",
    "inertia = []\n",
    "k = list(range(1, 11))\n",
    "\n",
    "# Calculate the inertia for the range of K values\n",
    "for i in k:\n",
    "    km = KMeans(n_clusters=i, random_state=0)\n",
    "    km.fit(df_iris_pca)\n",
    "    inertia.append(km.inertia_)\n",
    "\n",
    "# Create the elbow curve\n",
    "elbow_data = {\"k\": k, \"inertia\": inertia}\n",
    "df_elbow = pd.DataFrame(elbow_data)\n",
    "df_elbow.hvplot.line(x=\"k\", y=\"inertia\", xticks=k, title=\"Elbow Curve\")"
   ],
   "metadata": {
    "collapsed": false,
    "pycharm": {
     "name": "#%%\n"
    }
   }
  },
  {
   "cell_type": "code",
   "execution_count": 16,
   "outputs": [
    {
     "data": {
      "text/plain": "   Principal Component 1  Principal Component 2  class\n0              -2.264542               0.505704      0\n1              -2.086426              -0.655405      0\n2              -2.367950              -0.318477      0\n3              -2.304197              -0.575368      0\n4              -2.388777               0.674767      0",
      "text/html": "<div>\n<style scoped>\n    .dataframe tbody tr th:only-of-type {\n        vertical-align: middle;\n    }\n\n    .dataframe tbody tr th {\n        vertical-align: top;\n    }\n\n    .dataframe thead th {\n        text-align: right;\n    }\n</style>\n<table border=\"1\" class=\"dataframe\">\n  <thead>\n    <tr style=\"text-align: right;\">\n      <th></th>\n      <th>Principal Component 1</th>\n      <th>Principal Component 2</th>\n      <th>class</th>\n    </tr>\n  </thead>\n  <tbody>\n    <tr>\n      <th>0</th>\n      <td>-2.264542</td>\n      <td>0.505704</td>\n      <td>0</td>\n    </tr>\n    <tr>\n      <th>1</th>\n      <td>-2.086426</td>\n      <td>-0.655405</td>\n      <td>0</td>\n    </tr>\n    <tr>\n      <th>2</th>\n      <td>-2.367950</td>\n      <td>-0.318477</td>\n      <td>0</td>\n    </tr>\n    <tr>\n      <th>3</th>\n      <td>-2.304197</td>\n      <td>-0.575368</td>\n      <td>0</td>\n    </tr>\n    <tr>\n      <th>4</th>\n      <td>-2.388777</td>\n      <td>0.674767</td>\n      <td>0</td>\n    </tr>\n  </tbody>\n</table>\n</div>"
     },
     "execution_count": 16,
     "metadata": {},
     "output_type": "execute_result"
    }
   ],
   "source": [
    "# Initialize the K-means model\n",
    "model = KMeans(n_clusters=3, random_state=0)\n",
    "\n",
    "# Fit the model\n",
    "model.fit(df_iris_pca)\n",
    "\n",
    "# Predict clusters\n",
    "predictions = model.predict(df_iris_pca)\n",
    "\n",
    "# Add the predicted class columns\n",
    "df_iris_pca[\"class\"] = model.labels_\n",
    "df_iris_pca.head()"
   ],
   "metadata": {
    "collapsed": false,
    "pycharm": {
     "name": "#%%\n"
    }
   }
  },
  {
   "cell_type": "code",
   "execution_count": 18,
   "outputs": [
    {
     "data": {},
     "metadata": {},
     "output_type": "display_data"
    },
    {
     "data": {
      "text/html": "<div id='1111'>\n  <div class=\"bk-root\" id=\"b6b9b8b3-5d6a-4967-923f-684c212af79a\" data-root-id=\"1111\"></div>\n</div>\n<script type=\"application/javascript\">(function(root) {\n  function embed_document(root) {\n    var docs_json = {\"8c947679-e4d4-41be-bd43-6118ad9ad2bc\":{\"defs\":[{\"extends\":null,\"module\":null,\"name\":\"ReactiveHTML1\",\"overrides\":[],\"properties\":[]},{\"extends\":null,\"module\":null,\"name\":\"FlexBox1\",\"overrides\":[],\"properties\":[{\"default\":\"flex-start\",\"kind\":null,\"name\":\"align_content\"},{\"default\":\"flex-start\",\"kind\":null,\"name\":\"align_items\"},{\"default\":\"row\",\"kind\":null,\"name\":\"flex_direction\"},{\"default\":\"wrap\",\"kind\":null,\"name\":\"flex_wrap\"},{\"default\":\"flex-start\",\"kind\":null,\"name\":\"justify_content\"}]},{\"extends\":null,\"module\":null,\"name\":\"GridStack1\",\"overrides\":[],\"properties\":[{\"default\":\"warn\",\"kind\":null,\"name\":\"mode\"},{\"default\":null,\"kind\":null,\"name\":\"ncols\"},{\"default\":null,\"kind\":null,\"name\":\"nrows\"},{\"default\":true,\"kind\":null,\"name\":\"allow_resize\"},{\"default\":true,\"kind\":null,\"name\":\"allow_drag\"},{\"default\":[],\"kind\":null,\"name\":\"state\"}]},{\"extends\":null,\"module\":null,\"name\":\"click1\",\"overrides\":[],\"properties\":[{\"default\":\"\",\"kind\":null,\"name\":\"terminal_output\"},{\"default\":\"\",\"kind\":null,\"name\":\"debug_name\"},{\"default\":0,\"kind\":null,\"name\":\"clears\"}]},{\"extends\":null,\"module\":null,\"name\":\"NotificationAreaBase1\",\"overrides\":[],\"properties\":[{\"default\":\"bottom-right\",\"kind\":null,\"name\":\"position\"},{\"default\":0,\"kind\":null,\"name\":\"_clear\"}]},{\"extends\":null,\"module\":null,\"name\":\"NotificationArea1\",\"overrides\":[],\"properties\":[{\"default\":[],\"kind\":null,\"name\":\"notifications\"},{\"default\":\"bottom-right\",\"kind\":null,\"name\":\"position\"},{\"default\":0,\"kind\":null,\"name\":\"_clear\"},{\"default\":[{\"background\":\"#ffc107\",\"icon\":{\"className\":\"fas fa-exclamation-triangle\",\"color\":\"white\",\"tagName\":\"i\"},\"type\":\"warning\"},{\"background\":\"#007bff\",\"icon\":{\"className\":\"fas fa-info-circle\",\"color\":\"white\",\"tagName\":\"i\"},\"type\":\"info\"}],\"kind\":null,\"name\":\"types\"}]},{\"extends\":null,\"module\":null,\"name\":\"Notification\",\"overrides\":[],\"properties\":[{\"default\":null,\"kind\":null,\"name\":\"background\"},{\"default\":3000,\"kind\":null,\"name\":\"duration\"},{\"default\":null,\"kind\":null,\"name\":\"icon\"},{\"default\":\"\",\"kind\":null,\"name\":\"message\"},{\"default\":null,\"kind\":null,\"name\":\"notification_type\"},{\"default\":false,\"kind\":null,\"name\":\"_destroyed\"}]},{\"extends\":null,\"module\":null,\"name\":\"TemplateActions1\",\"overrides\":[],\"properties\":[{\"default\":0,\"kind\":null,\"name\":\"open_modal\"},{\"default\":0,\"kind\":null,\"name\":\"close_modal\"}]},{\"extends\":null,\"module\":null,\"name\":\"MaterialTemplateActions1\",\"overrides\":[],\"properties\":[{\"default\":0,\"kind\":null,\"name\":\"open_modal\"},{\"default\":0,\"kind\":null,\"name\":\"close_modal\"}]}],\"roots\":{\"references\":[{\"attributes\":{\"data\":{\"Principal Component 1\":{\"__ndarray__\":\"ehWMhntt2T9GnJZFWCnxP2mBHlf2mtg/6v4dZv7c379pGywXnaPtP1PCkDZaWXQ//d2FPizsv7+sz+h8JxTcP1JNsk78puE/N0UqJwTz5j+yz63ghxOjv5tu06S8RdY/37Iv7V2iwz9i6iTH4XHzPyfYZACmFsQ/U61SDE473j8NyjX41qXzP4cxy7fjI+Q/GNCK7kVq5j8chVUnIzDlP+gb1FJINai/Qj98rN0cvz/sj1g5BOqMPxnf6GWaNc4/Dc1ZRTXo8D+vsJMoZVfMP8ubvwf1kvA/vl4TnFcrsT9yNwN1kKDRP8h9yQ7wbdE/o43+VwPx4z+x3kvRzh7VP8TEFNWD6de/1yTllsIb0j81X21EL8y2PwUkQhu5t8w/7wRG5kBd4j/bjFDrsj/dv9+A0gDGJNA/3l8IKHdz8j/9oUp+m+/WP1r35HGkDPQ/GuKIxsts9z/6RPpdThD0P4xitwdQKu8/8oqkmmBE9T9gfP3wHsDyP9z2a9zEx/E/KDazatUo8z+WvvFQw4ztP95fCCh3c/I/R9VbMZXv+D842SvtkrLuPw==\",\"dtype\":\"float64\",\"order\":\"little\",\"shape\":[53]},\"Principal Component 2\":{\"__ndarray__\":\"i80hw3Uh/L+CAFcJ4hrLv+0VlNb76eK/YJSza/eU/b8pjGFUCw+fP+XLA01tePC/8YKEXbZDBcCv9gYTsCWuv0XNqHx+XPy/0Xstxk+8x78qLLY26rLbvwS+JkVKZsi/j4nUeJ9N6b9f5T6HOSL6v7pAi9CC2fS/sAipiLWp2r8+r8dW+Rvuv+HFU70Krdq/CDfCViNBsL9cGdg+X7fMv2UFEZBX6vC/Z8J8cXkE+b9p1i92nSz5vz+ekB1e1Oi/CS0SzX5h5L93bj2aaPnRv7iLs++KR/a/iMdo/yc3y787ZwsN7Ub1vyMJ/oM76fG/6MUd1SI0nD9k68QlE6Xvv8zC5Ku5JADAn0s7dJBT67+njkY+Z2PGv0r2R1TcWdi/ejq1mhitw7+y+86JpaH4v6J6HI5KEeO/SQhbdkNx5r86lg29Jfb4v44xaImirfK/pa9g7els3L9MKnQyOXv7v0HNWXwPR+K/PWwdsBUn37/B2YlbzWjUv/mTgLFv8dK/Ra/b9jwm6r9cAFtSILGTP0kIW3ZDcea/ulrVOlT47L8/Ciw2mtGWvw==\",\"dtype\":\"float64\",\"order\":\"little\",\"shape\":[53]},\"Principal_Component_1\":{\"__ndarray__\":\"ehWMhntt2T9GnJZFWCnxP2mBHlf2mtg/6v4dZv7c379pGywXnaPtP1PCkDZaWXQ//d2FPizsv7+sz+h8JxTcP1JNsk78puE/N0UqJwTz5j+yz63ghxOjv5tu06S8RdY/37Iv7V2iwz9i6iTH4XHzPyfYZACmFsQ/U61SDE473j8NyjX41qXzP4cxy7fjI+Q/GNCK7kVq5j8chVUnIzDlP+gb1FJINai/Qj98rN0cvz/sj1g5BOqMPxnf6GWaNc4/Dc1ZRTXo8D+vsJMoZVfMP8ubvwf1kvA/vl4TnFcrsT9yNwN1kKDRP8h9yQ7wbdE/o43+VwPx4z+x3kvRzh7VP8TEFNWD6de/1yTllsIb0j81X21EL8y2PwUkQhu5t8w/7wRG5kBd4j/bjFDrsj/dv9+A0gDGJNA/3l8IKHdz8j/9oUp+m+/WP1r35HGkDPQ/GuKIxsts9z/6RPpdThD0P4xitwdQKu8/8oqkmmBE9T9gfP3wHsDyP9z2a9zEx/E/KDazatUo8z+WvvFQw4ztP95fCCh3c/I/R9VbMZXv+D842SvtkrLuPw==\",\"dtype\":\"float64\",\"order\":\"little\",\"shape\":[53]},\"Principal_Component_2\":{\"__ndarray__\":\"i80hw3Uh/L+CAFcJ4hrLv+0VlNb76eK/YJSza/eU/b8pjGFUCw+fP+XLA01tePC/8YKEXbZDBcCv9gYTsCWuv0XNqHx+XPy/0Xstxk+8x78qLLY26rLbvwS+JkVKZsi/j4nUeJ9N6b9f5T6HOSL6v7pAi9CC2fS/sAipiLWp2r8+r8dW+Rvuv+HFU70Krdq/CDfCViNBsL9cGdg+X7fMv2UFEZBX6vC/Z8J8cXkE+b9p1i92nSz5vz+ekB1e1Oi/CS0SzX5h5L93bj2aaPnRv7iLs++KR/a/iMdo/yc3y787ZwsN7Ub1vyMJ/oM76fG/6MUd1SI0nD9k68QlE6Xvv8zC5Ku5JADAn0s7dJBT67+njkY+Z2PGv0r2R1TcWdi/ejq1mhitw7+y+86JpaH4v6J6HI5KEeO/SQhbdkNx5r86lg29Jfb4v44xaImirfK/pa9g7els3L9MKnQyOXv7v0HNWXwPR+K/PWwdsBUn37/B2YlbzWjUv/mTgLFv8dK/Ra/b9jwm6r9cAFtSILGTP0kIW3ZDcea/ulrVOlT47L8/Ciw2mtGWvw==\",\"dtype\":\"float64\",\"order\":\"little\",\"shape\":[53]},\"class\":{\"__ndarray__\":\"AQAAAAEAAAABAAAAAQAAAAEAAAABAAAAAQAAAAEAAAABAAAAAQAAAAEAAAABAAAAAQAAAAEAAAABAAAAAQAAAAEAAAABAAAAAQAAAAEAAAABAAAAAQAAAAEAAAABAAAAAQAAAAEAAAABAAAAAQAAAAEAAAABAAAAAQAAAAEAAAABAAAAAQAAAAEAAAABAAAAAQAAAAEAAAABAAAAAQAAAAEAAAABAAAAAQAAAAEAAAABAAAAAQAAAAEAAAABAAAAAQAAAAEAAAABAAAAAQAAAAEAAAA=\",\"dtype\":\"int32\",\"order\":\"little\",\"shape\":[53]}},\"selected\":{\"id\":\"1176\"},\"selection_policy\":{\"id\":\"1192\"}},\"id\":\"1175\",\"type\":\"ColumnDataSource\"},{\"attributes\":{\"source\":{\"id\":\"1175\"}},\"id\":\"1182\",\"type\":\"CDSView\"},{\"attributes\":{\"data\":{\"Principal Component 1\":{\"__ndarray__\":\"OxG/DcgdAsCfflXa/7AAwC0tSgGQ8QLAqnjV6/5uAsB8OOBfNxwDwLEJAJp1kADA6lhZG9GQA8C3vPx66N4BwLbvZ05UvALA4dUzb2iCAcDFACQK0k4BwH2PWzp4ngLAa0HW4evKAcBwYBiPIx4FwOBkYiHQiQHA68LFMQADAsDCicmkO58BwNHnRqd8hQHAELKL2CBO/r9tMd43N7gCwDcu6+IFov6/J3pNIB2jAcAhHszufzEGwG+yHOBnIP2/cG9EsmPTAcBlStBn+E//v+cJWiugagDAzhcE6nVYAcDy6Z27WB8BwCENM3l7JgLA3eURJwwoAcCvCNRTnk/9v3SUD3eZ3QTAxoxIYeyAA8Dh1TNvaIIBwATB4qBfsAHAqAtPDPdaAMDh1TNvaIIBwJvdMoLUfAPAUyP02UddAcA64QHLzkoCwF5zDEaD8v2/XPlj5HF2BMD2iQQfsG3/v/eHnMYlEQHAn+7lFFWaAMDP+qMb0QwDwI9moB9/LwPAKposq3LQAcDcjpZMy6UBwA==\",\"dtype\":\"float64\",\"order\":\"little\",\"shape\":[50]},\"Principal Component 2\":{\"__ndarray__\":\"Xe9787ku4D/zF8lWE/nkv2nYpqjuYdS/DCSQjGlp4r/M0afLsZflP7W+IZP5S/g/OySoGooWsz9ueXQ10LHPP8sIOjG4hfG/hE6pnFa23L9jMKXTKCHxPya/qP2XTMQ/oqo3kBix5r+CiXLvZwbuv9KryBtaPf4/jrWrfGrHBUBcjF03Ujj4PzH+/04udeA/7kk0V9Tl9j8ipZIPTofyP2PAlsG9jNs/0vKSxId67j85u+o4P1TfPwjWDBwFVLs/R+1BJITCxD+0YRod23Pjv2eqjuRgBtE/aYxIfx6q4T/XGaA2hIvVP1tBWpX4JtS/QAayRej43r8Dlx54QH/cP7FxJTRvQf0/wLJwma57AUCETqmcVrbcvx3n16FhmMe/quVDvSnr5T+ETqmcVrbcv3LEP1q7Ouy/b0SP1gm80j9JwmaGk/PdP3p/28YcnwLAoO8l3FML3b9cssu+Q9XfP+jeGJkvvvI/94wv2S8k5r9OqsG4/WjyP9GttwhpMde/dO6vZGBo8D/D7UmWeoGgPw==\",\"dtype\":\"float64\",\"order\":\"little\",\"shape\":[50]},\"Principal_Component_1\":{\"__ndarray__\":\"OxG/DcgdAsCfflXa/7AAwC0tSgGQ8QLAqnjV6/5uAsB8OOBfNxwDwLEJAJp1kADA6lhZG9GQA8C3vPx66N4BwLbvZ05UvALA4dUzb2iCAcDFACQK0k4BwH2PWzp4ngLAa0HW4evKAcBwYBiPIx4FwOBkYiHQiQHA68LFMQADAsDCicmkO58BwNHnRqd8hQHAELKL2CBO/r9tMd43N7gCwDcu6+IFov6/J3pNIB2jAcAhHszufzEGwG+yHOBnIP2/cG9EsmPTAcBlStBn+E//v+cJWiugagDAzhcE6nVYAcDy6Z27WB8BwCENM3l7JgLA3eURJwwoAcCvCNRTnk/9v3SUD3eZ3QTAxoxIYeyAA8Dh1TNvaIIBwATB4qBfsAHAqAtPDPdaAMDh1TNvaIIBwJvdMoLUfAPAUyP02UddAcA64QHLzkoCwF5zDEaD8v2/XPlj5HF2BMD2iQQfsG3/v/eHnMYlEQHAn+7lFFWaAMDP+qMb0QwDwI9moB9/LwPAKposq3LQAcDcjpZMy6UBwA==\",\"dtype\":\"float64\",\"order\":\"little\",\"shape\":[50]},\"Principal_Component_2\":{\"__ndarray__\":\"Xe9787ku4D/zF8lWE/nkv2nYpqjuYdS/DCSQjGlp4r/M0afLsZflP7W+IZP5S/g/OySoGooWsz9ueXQ10LHPP8sIOjG4hfG/hE6pnFa23L9jMKXTKCHxPya/qP2XTMQ/oqo3kBix5r+CiXLvZwbuv9KryBtaPf4/jrWrfGrHBUBcjF03Ujj4PzH+/04udeA/7kk0V9Tl9j8ipZIPTofyP2PAlsG9jNs/0vKSxId67j85u+o4P1TfPwjWDBwFVLs/R+1BJITCxD+0YRod23Pjv2eqjuRgBtE/aYxIfx6q4T/XGaA2hIvVP1tBWpX4JtS/QAayRej43r8Dlx54QH/cP7FxJTRvQf0/wLJwma57AUCETqmcVrbcvx3n16FhmMe/quVDvSnr5T+ETqmcVrbcv3LEP1q7Ouy/b0SP1gm80j9JwmaGk/PdP3p/28YcnwLAoO8l3FML3b9cssu+Q9XfP+jeGJkvvvI/94wv2S8k5r9OqsG4/WjyP9GttwhpMde/dO6vZGBo8D/D7UmWeoGgPw==\",\"dtype\":\"float64\",\"order\":\"little\",\"shape\":[50]},\"class\":{\"__ndarray__\":\"AAAAAAAAAAAAAAAAAAAAAAAAAAAAAAAAAAAAAAAAAAAAAAAAAAAAAAAAAAAAAAAAAAAAAAAAAAAAAAAAAAAAAAAAAAAAAAAAAAAAAAAAAAAAAAAAAAAAAAAAAAAAAAAAAAAAAAAAAAAAAAAAAAAAAAAAAAAAAAAAAAAAAAAAAAAAAAAAAAAAAAAAAAAAAAAAAAAAAAAAAAAAAAAAAAAAAAAAAAAAAAAAAAAAAAAAAAAAAAAAAAAAAAAAAAAAAAAAAAAAAAAAAAA=\",\"dtype\":\"int32\",\"order\":\"little\",\"shape\":[50]}},\"selected\":{\"id\":\"1155\"},\"selection_policy\":{\"id\":\"1169\"}},\"id\":\"1154\",\"type\":\"ColumnDataSource\"},{\"attributes\":{\"data\":{\"Principal Component 1\":{\"__ndarray__\":\"bpicP/Wp8T/ldLjqfHDnP0RUdjeu3/M/jn2nUXn15z94t9eWSwfsPwTqCkTLn+c/YYkX1wP06z/nYaNJSxH0PxJwyrRZu/U/YiqW1lWi2z+hboqoZcrwP2FoZCMRkP0/WqOtkJqmAUCtkwP82gT3P8Cof1zh4v0/b0K5SJgIBkDiZzhbjmwCQPMm68uNAwBAH09oqvMjAkBri3vYw9r1P6kQOb/Elfk/Nq6UReUl/j8X0QQIDXj5P3cdkBhdivc/PvYnSsB/A0AuhisDH3kKQJTn9rPvUgBANS4taDwvB0A/qLnnkUT7P6IJnj3aUv8/HdLu7wVR8D+c2hYHfpP8P3obVl0h1v0/hvhsDuZ7A0AvtjE3VocCQGctB9QUxP0/i042KVhoBkCx+a/eUEj5P+7OTXR+jfU/OAUQICao/T8MDMQGFyEAQLNqwqkqc/4/Nw5TGLJYAEC4eb2NdgMAQO3gNY2o7f0/9YJComFV+D8M9OTEsgX2Pw==\",\"dtype\":\"float64\",\"order\":\"little\",\"shape\":[47]},\"Principal Component 2\":{\"__ndarray__\":\"1Hb2/Z2e6z8YPDfKBSjjP9XNPSGgrOM/rl+rWRnr6D9fOXqk51HgP5BBqiETwtk/Wp7yIJwL0D8GiLBClya1vz8teShkC9U/Cgg+Gkhd6z+8k6QJ17XgP30sy2Xw5Os/BsTpFji+4T98lDOr+pqpv+9EGSLnotI/nAetLdY66T9MO0mDhTXaP6yQnq/nKee/uo2XATu+/j8xoQKF0jTmP2R9L85taNu/aqdDi22E2j8ufGgVRqrlPzM3rDJONNA/fTlsMT10BECWi6QTDFhjvz10hSJpCe0/ZpKR42l12T+OWt+y8znwP5uAK36oDfA/bqj7cmzHsD/evEvBKb3Iv43kXX2vxeE/yV7ipF+Szz8g4TWwbAIFQIaBO1NYo8e/RSs1XS0I6z+jj2oE2yjxPxj8A+M9Bts/uaTAq3yE5T/X+zteX4jjP9x2Ilnq8+U/tyJfoH+r6z85eOdp3MbwP/dDMiongNg/edtvjSkT0T8cLdG5BEPwPw==\",\"dtype\":\"float64\",\"order\":\"little\",\"shape\":[47]},\"Principal_Component_1\":{\"__ndarray__\":\"bpicP/Wp8T/ldLjqfHDnP0RUdjeu3/M/jn2nUXn15z94t9eWSwfsPwTqCkTLn+c/YYkX1wP06z/nYaNJSxH0PxJwyrRZu/U/YiqW1lWi2z+hboqoZcrwP2FoZCMRkP0/WqOtkJqmAUCtkwP82gT3P8Cof1zh4v0/b0K5SJgIBkDiZzhbjmwCQPMm68uNAwBAH09oqvMjAkBri3vYw9r1P6kQOb/Elfk/Nq6UReUl/j8X0QQIDXj5P3cdkBhdivc/PvYnSsB/A0AuhisDH3kKQJTn9rPvUgBANS4taDwvB0A/qLnnkUT7P6IJnj3aUv8/HdLu7wVR8D+c2hYHfpP8P3obVl0h1v0/hvhsDuZ7A0AvtjE3VocCQGctB9QUxP0/i042KVhoBkCx+a/eUEj5P+7OTXR+jfU/OAUQICao/T8MDMQGFyEAQLNqwqkqc/4/Nw5TGLJYAEC4eb2NdgMAQO3gNY2o7f0/9YJComFV+D8M9OTEsgX2Pw==\",\"dtype\":\"float64\",\"order\":\"little\",\"shape\":[47]},\"Principal_Component_2\":{\"__ndarray__\":\"1Hb2/Z2e6z8YPDfKBSjjP9XNPSGgrOM/rl+rWRnr6D9fOXqk51HgP5BBqiETwtk/Wp7yIJwL0D8GiLBClya1vz8teShkC9U/Cgg+Gkhd6z+8k6QJ17XgP30sy2Xw5Os/BsTpFji+4T98lDOr+pqpv+9EGSLnotI/nAetLdY66T9MO0mDhTXaP6yQnq/nKee/uo2XATu+/j8xoQKF0jTmP2R9L85taNu/aqdDi22E2j8ufGgVRqrlPzM3rDJONNA/fTlsMT10BECWi6QTDFhjvz10hSJpCe0/ZpKR42l12T+OWt+y8znwP5uAK36oDfA/bqj7cmzHsD/evEvBKb3Iv43kXX2vxeE/yV7ipF+Szz8g4TWwbAIFQIaBO1NYo8e/RSs1XS0I6z+jj2oE2yjxPxj8A+M9Bts/uaTAq3yE5T/X+zteX4jjP9x2Ilnq8+U/tyJfoH+r6z85eOdp3MbwP/dDMiongNg/edtvjSkT0T8cLdG5BEPwPw==\",\"dtype\":\"float64\",\"order\":\"little\",\"shape\":[47]},\"class\":{\"__ndarray__\":\"AgAAAAIAAAACAAAAAgAAAAIAAAACAAAAAgAAAAIAAAACAAAAAgAAAAIAAAACAAAAAgAAAAIAAAACAAAAAgAAAAIAAAACAAAAAgAAAAIAAAACAAAAAgAAAAIAAAACAAAAAgAAAAIAAAACAAAAAgAAAAIAAAACAAAAAgAAAAIAAAACAAAAAgAAAAIAAAACAAAAAgAAAAIAAAACAAAAAgAAAAIAAAACAAAAAgAAAAIAAAACAAAAAgAAAAIAAAA=\",\"dtype\":\"int32\",\"order\":\"little\",\"shape\":[47]}},\"selected\":{\"id\":\"1198\"},\"selection_policy\":{\"id\":\"1216\"}},\"id\":\"1197\",\"type\":\"ColumnDataSource\"},{\"attributes\":{},\"id\":\"1192\",\"type\":\"UnionRenderers\"},{\"attributes\":{\"margin\":[5,5,5,5],\"name\":\"HSpacer01038\",\"sizing_mode\":\"stretch_width\"},\"id\":\"1112\",\"type\":\"Spacer\"},{\"attributes\":{\"end\":3.569854510235274,\"reset_end\":3.569854510235274,\"reset_start\":-3.0348831212643517,\"start\":-3.0348831212643517,\"tags\":[[[\"Principal Component 1\",\"Principal Component 1\",null]]]},\"id\":\"1113\",\"type\":\"Range1d\"},{\"attributes\":{\"source\":{\"id\":\"1154\"}},\"id\":\"1161\",\"type\":\"CDSView\"},{\"attributes\":{},\"id\":\"1149\",\"type\":\"BasicTickFormatter\"},{\"attributes\":{\"coordinates\":null,\"data_source\":{\"id\":\"1175\"},\"glyph\":{\"id\":\"1178\"},\"group\":null,\"hover_glyph\":null,\"muted_glyph\":{\"id\":\"1180\"},\"nonselection_glyph\":{\"id\":\"1179\"},\"selection_glyph\":{\"id\":\"1196\"},\"view\":{\"id\":\"1182\"}},\"id\":\"1181\",\"type\":\"GlyphRenderer\"},{\"attributes\":{\"fill_alpha\":{\"value\":0.2},\"fill_color\":{\"value\":\"#fc4f30\"},\"hatch_alpha\":{\"value\":0.2},\"hatch_color\":{\"value\":\"#fc4f30\"},\"line_alpha\":{\"value\":0.2},\"line_color\":{\"value\":\"#fc4f30\"},\"size\":{\"value\":5.477225575051661},\"x\":{\"field\":\"Principal Component 1\"},\"y\":{\"field\":\"Principal Component 2\"}},\"id\":\"1180\",\"type\":\"Scatter\"},{\"attributes\":{},\"id\":\"1135\",\"type\":\"SaveTool\"},{\"attributes\":{\"label\":{\"value\":\"1\"},\"renderers\":[{\"id\":\"1181\"}]},\"id\":\"1195\",\"type\":\"LegendItem\"},{\"attributes\":{},\"id\":\"1136\",\"type\":\"PanTool\"},{\"attributes\":{\"margin\":[5,5,5,5],\"name\":\"HSpacer01039\",\"sizing_mode\":\"stretch_width\"},\"id\":\"1235\",\"type\":\"Spacer\"},{\"attributes\":{\"angle\":{\"value\":0.0},\"fill_alpha\":{\"value\":1.0},\"fill_color\":{\"value\":\"#fc4f30\"},\"hatch_alpha\":{\"value\":1.0},\"hatch_color\":{\"value\":\"#fc4f30\"},\"hatch_scale\":{\"value\":12.0},\"hatch_weight\":{\"value\":1.0},\"line_alpha\":{\"value\":1.0},\"line_cap\":{\"value\":\"butt\"},\"line_color\":{\"value\":\"#fc4f30\"},\"line_dash\":{\"value\":[]},\"line_dash_offset\":{\"value\":0},\"line_join\":{\"value\":\"bevel\"},\"line_width\":{\"value\":1},\"marker\":{\"value\":\"circle\"},\"size\":{\"value\":5.477225575051661},\"x\":{\"field\":\"Principal Component 1\"},\"y\":{\"field\":\"Principal Component 2\"}},\"id\":\"1196\",\"type\":\"Scatter\"},{\"attributes\":{},\"id\":\"1139\",\"type\":\"ResetTool\"},{\"attributes\":{\"fill_color\":{\"value\":\"#30a2da\"},\"hatch_color\":{\"value\":\"#30a2da\"},\"line_color\":{\"value\":\"#30a2da\"},\"size\":{\"value\":5.477225575051661},\"x\":{\"field\":\"Principal Component 1\"},\"y\":{\"field\":\"Principal Component 2\"}},\"id\":\"1157\",\"type\":\"Scatter\"},{\"attributes\":{\"callback\":null,\"renderers\":[{\"id\":\"1160\"},{\"id\":\"1181\"},{\"id\":\"1203\"}],\"tags\":[\"hv_created\"],\"tooltips\":[[\"class\",\"@{class}\"],[\"Principal Component 1\",\"@{Principal_Component_1}\"],[\"Principal Component 2\",\"@{Principal_Component_2}\"]]},\"id\":\"1115\",\"type\":\"HoverTool\"},{\"attributes\":{},\"id\":\"1137\",\"type\":\"WheelZoomTool\"},{\"attributes\":{\"children\":[{\"id\":\"1112\"},{\"id\":\"1118\"},{\"id\":\"1235\"}],\"margin\":[0,0,0,0],\"name\":\"Row01034\",\"tags\":[\"embedded\"]},\"id\":\"1111\",\"type\":\"Row\"},{\"attributes\":{\"end\":3.2604144520280904,\"reset_end\":3.2604144520280904,\"reset_start\":-3.1961060534153822,\"start\":-3.1961060534153822,\"tags\":[[[\"Principal Component 2\",\"Principal Component 2\",null]]]},\"id\":\"1114\",\"type\":\"Range1d\"},{\"attributes\":{\"click_policy\":\"mute\",\"coordinates\":null,\"group\":null,\"items\":[{\"id\":\"1173\"},{\"id\":\"1195\"},{\"id\":\"1219\"}],\"location\":[0,0],\"title\":\"class\"},\"id\":\"1172\",\"type\":\"Legend\"},{\"attributes\":{\"angle\":{\"value\":0.0},\"fill_alpha\":{\"value\":1.0},\"fill_color\":{\"value\":\"#30a2da\"},\"hatch_alpha\":{\"value\":1.0},\"hatch_color\":{\"value\":\"#30a2da\"},\"hatch_scale\":{\"value\":12.0},\"hatch_weight\":{\"value\":1.0},\"line_alpha\":{\"value\":1.0},\"line_cap\":{\"value\":\"butt\"},\"line_color\":{\"value\":\"#30a2da\"},\"line_dash\":{\"value\":[]},\"line_dash_offset\":{\"value\":0},\"line_join\":{\"value\":\"bevel\"},\"line_width\":{\"value\":1},\"marker\":{\"value\":\"circle\"},\"size\":{\"value\":5.477225575051661},\"x\":{\"field\":\"Principal Component 1\"},\"y\":{\"field\":\"Principal Component 2\"}},\"id\":\"1174\",\"type\":\"Scatter\"},{\"attributes\":{\"fill_alpha\":{\"value\":0.1},\"fill_color\":{\"value\":\"#30a2da\"},\"hatch_alpha\":{\"value\":0.1},\"hatch_color\":{\"value\":\"#30a2da\"},\"line_alpha\":{\"value\":0.1},\"line_color\":{\"value\":\"#30a2da\"},\"size\":{\"value\":5.477225575051661},\"x\":{\"field\":\"Principal Component 1\"},\"y\":{\"field\":\"Principal Component 2\"}},\"id\":\"1158\",\"type\":\"Scatter\"},{\"attributes\":{\"fill_alpha\":{\"value\":0.1},\"fill_color\":{\"value\":\"#fc4f30\"},\"hatch_alpha\":{\"value\":0.1},\"hatch_color\":{\"value\":\"#fc4f30\"},\"line_alpha\":{\"value\":0.1},\"line_color\":{\"value\":\"#fc4f30\"},\"size\":{\"value\":5.477225575051661},\"x\":{\"field\":\"Principal Component 1\"},\"y\":{\"field\":\"Principal Component 2\"}},\"id\":\"1179\",\"type\":\"Scatter\"},{\"attributes\":{\"fill_alpha\":{\"value\":0.2},\"fill_color\":{\"value\":\"#e5ae38\"},\"hatch_alpha\":{\"value\":0.2},\"hatch_color\":{\"value\":\"#e5ae38\"},\"line_alpha\":{\"value\":0.2},\"line_color\":{\"value\":\"#e5ae38\"},\"size\":{\"value\":5.477225575051661},\"x\":{\"field\":\"Principal Component 1\"},\"y\":{\"field\":\"Principal Component 2\"}},\"id\":\"1202\",\"type\":\"Scatter\"},{\"attributes\":{\"overlay\":{\"id\":\"1140\"}},\"id\":\"1138\",\"type\":\"BoxZoomTool\"},{\"attributes\":{},\"id\":\"1153\",\"type\":\"AllLabels\"},{\"attributes\":{\"fill_alpha\":{\"value\":0.2},\"fill_color\":{\"value\":\"#30a2da\"},\"hatch_alpha\":{\"value\":0.2},\"hatch_color\":{\"value\":\"#30a2da\"},\"line_alpha\":{\"value\":0.2},\"line_color\":{\"value\":\"#30a2da\"},\"size\":{\"value\":5.477225575051661},\"x\":{\"field\":\"Principal Component 1\"},\"y\":{\"field\":\"Principal Component 2\"}},\"id\":\"1159\",\"type\":\"Scatter\"},{\"attributes\":{},\"id\":\"1128\",\"type\":\"BasicTicker\"},{\"attributes\":{\"fill_color\":{\"value\":\"#e5ae38\"},\"hatch_color\":{\"value\":\"#e5ae38\"},\"line_color\":{\"value\":\"#e5ae38\"},\"size\":{\"value\":5.477225575051661},\"x\":{\"field\":\"Principal Component 1\"},\"y\":{\"field\":\"Principal Component 2\"}},\"id\":\"1200\",\"type\":\"Scatter\"},{\"attributes\":{},\"id\":\"1123\",\"type\":\"LinearScale\"},{\"attributes\":{},\"id\":\"1155\",\"type\":\"Selection\"},{\"attributes\":{},\"id\":\"1216\",\"type\":\"UnionRenderers\"},{\"attributes\":{\"coordinates\":null,\"group\":null,\"text_color\":\"black\",\"text_font_size\":\"12pt\"},\"id\":\"1119\",\"type\":\"Title\"},{\"attributes\":{\"label\":{\"value\":\"2\"},\"renderers\":[{\"id\":\"1203\"}]},\"id\":\"1219\",\"type\":\"LegendItem\"},{\"attributes\":{\"axis\":{\"id\":\"1127\"},\"coordinates\":null,\"grid_line_color\":null,\"group\":null,\"ticker\":null},\"id\":\"1130\",\"type\":\"Grid\"},{\"attributes\":{\"angle\":{\"value\":0.0},\"fill_alpha\":{\"value\":1.0},\"fill_color\":{\"value\":\"#e5ae38\"},\"hatch_alpha\":{\"value\":1.0},\"hatch_color\":{\"value\":\"#e5ae38\"},\"hatch_scale\":{\"value\":12.0},\"hatch_weight\":{\"value\":1.0},\"line_alpha\":{\"value\":1.0},\"line_cap\":{\"value\":\"butt\"},\"line_color\":{\"value\":\"#e5ae38\"},\"line_dash\":{\"value\":[]},\"line_dash_offset\":{\"value\":0},\"line_join\":{\"value\":\"bevel\"},\"line_width\":{\"value\":1},\"marker\":{\"value\":\"circle\"},\"size\":{\"value\":5.477225575051661},\"x\":{\"field\":\"Principal Component 1\"},\"y\":{\"field\":\"Principal Component 2\"}},\"id\":\"1220\",\"type\":\"Scatter\"},{\"attributes\":{\"tools\":[{\"id\":\"1115\"},{\"id\":\"1135\"},{\"id\":\"1136\"},{\"id\":\"1137\"},{\"id\":\"1138\"},{\"id\":\"1139\"}]},\"id\":\"1141\",\"type\":\"Toolbar\"},{\"attributes\":{},\"id\":\"1150\",\"type\":\"AllLabels\"},{\"attributes\":{},\"id\":\"1125\",\"type\":\"LinearScale\"},{\"attributes\":{\"axis_label\":\"Principal Component 2\",\"coordinates\":null,\"formatter\":{\"id\":\"1152\"},\"group\":null,\"major_label_policy\":{\"id\":\"1153\"},\"ticker\":{\"id\":\"1132\"}},\"id\":\"1131\",\"type\":\"LinearAxis\"},{\"attributes\":{\"fill_alpha\":{\"value\":0.1},\"fill_color\":{\"value\":\"#e5ae38\"},\"hatch_alpha\":{\"value\":0.1},\"hatch_color\":{\"value\":\"#e5ae38\"},\"line_alpha\":{\"value\":0.1},\"line_color\":{\"value\":\"#e5ae38\"},\"size\":{\"value\":5.477225575051661},\"x\":{\"field\":\"Principal Component 1\"},\"y\":{\"field\":\"Principal Component 2\"}},\"id\":\"1201\",\"type\":\"Scatter\"},{\"attributes\":{},\"id\":\"1152\",\"type\":\"BasicTickFormatter\"},{\"attributes\":{\"bottom_units\":\"screen\",\"coordinates\":null,\"fill_alpha\":0.5,\"fill_color\":\"lightgrey\",\"group\":null,\"left_units\":\"screen\",\"level\":\"overlay\",\"line_alpha\":1.0,\"line_color\":\"black\",\"line_dash\":[4,4],\"line_width\":2,\"right_units\":\"screen\",\"syncable\":false,\"top_units\":\"screen\"},\"id\":\"1140\",\"type\":\"BoxAnnotation\"},{\"attributes\":{\"axis_label\":\"Principal Component 1\",\"coordinates\":null,\"formatter\":{\"id\":\"1149\"},\"group\":null,\"major_label_policy\":{\"id\":\"1150\"},\"ticker\":{\"id\":\"1128\"}},\"id\":\"1127\",\"type\":\"LinearAxis\"},{\"attributes\":{\"source\":{\"id\":\"1197\"}},\"id\":\"1204\",\"type\":\"CDSView\"},{\"attributes\":{\"fill_color\":{\"value\":\"#fc4f30\"},\"hatch_color\":{\"value\":\"#fc4f30\"},\"line_color\":{\"value\":\"#fc4f30\"},\"size\":{\"value\":5.477225575051661},\"x\":{\"field\":\"Principal Component 1\"},\"y\":{\"field\":\"Principal Component 2\"}},\"id\":\"1178\",\"type\":\"Scatter\"},{\"attributes\":{\"below\":[{\"id\":\"1127\"}],\"center\":[{\"id\":\"1130\"},{\"id\":\"1134\"}],\"height\":300,\"left\":[{\"id\":\"1131\"}],\"margin\":[5,5,5,5],\"min_border_bottom\":10,\"min_border_left\":10,\"min_border_right\":10,\"min_border_top\":10,\"renderers\":[{\"id\":\"1160\"},{\"id\":\"1181\"},{\"id\":\"1203\"}],\"right\":[{\"id\":\"1172\"}],\"sizing_mode\":\"fixed\",\"title\":{\"id\":\"1119\"},\"toolbar\":{\"id\":\"1141\"},\"width\":700,\"x_range\":{\"id\":\"1113\"},\"x_scale\":{\"id\":\"1123\"},\"y_range\":{\"id\":\"1114\"},\"y_scale\":{\"id\":\"1125\"}},\"id\":\"1118\",\"subtype\":\"Figure\",\"type\":\"Plot\"},{\"attributes\":{\"coordinates\":null,\"data_source\":{\"id\":\"1197\"},\"glyph\":{\"id\":\"1200\"},\"group\":null,\"hover_glyph\":null,\"muted_glyph\":{\"id\":\"1202\"},\"nonselection_glyph\":{\"id\":\"1201\"},\"selection_glyph\":{\"id\":\"1220\"},\"view\":{\"id\":\"1204\"}},\"id\":\"1203\",\"type\":\"GlyphRenderer\"},{\"attributes\":{},\"id\":\"1176\",\"type\":\"Selection\"},{\"attributes\":{},\"id\":\"1132\",\"type\":\"BasicTicker\"},{\"attributes\":{},\"id\":\"1169\",\"type\":\"UnionRenderers\"},{\"attributes\":{\"axis\":{\"id\":\"1131\"},\"coordinates\":null,\"dimension\":1,\"grid_line_color\":null,\"group\":null,\"ticker\":null},\"id\":\"1134\",\"type\":\"Grid\"},{\"attributes\":{},\"id\":\"1198\",\"type\":\"Selection\"},{\"attributes\":{\"coordinates\":null,\"data_source\":{\"id\":\"1154\"},\"glyph\":{\"id\":\"1157\"},\"group\":null,\"hover_glyph\":null,\"muted_glyph\":{\"id\":\"1159\"},\"nonselection_glyph\":{\"id\":\"1158\"},\"selection_glyph\":{\"id\":\"1174\"},\"view\":{\"id\":\"1161\"}},\"id\":\"1160\",\"type\":\"GlyphRenderer\"},{\"attributes\":{\"label\":{\"value\":\"0\"},\"renderers\":[{\"id\":\"1160\"}]},\"id\":\"1173\",\"type\":\"LegendItem\"}],\"root_ids\":[\"1111\"]},\"title\":\"Bokeh Application\",\"version\":\"2.4.3\"}};\n    var render_items = [{\"docid\":\"8c947679-e4d4-41be-bd43-6118ad9ad2bc\",\"root_ids\":[\"1111\"],\"roots\":{\"1111\":\"b6b9b8b3-5d6a-4967-923f-684c212af79a\"}}];\n    root.Bokeh.embed.embed_items_notebook(docs_json, render_items);\n  }\n  if (root.Bokeh !== undefined && root.Bokeh.Panel !== undefined) {\n    embed_document(root);\n  } else {\n    var attempts = 0;\n    var timer = setInterval(function(root) {\n      if (root.Bokeh !== undefined && root.Bokeh.Panel !== undefined) {\n        clearInterval(timer);\n        embed_document(root);\n      } else if (document.readyState == \"complete\") {\n        attempts++;\n        if (attempts > 200) {\n          clearInterval(timer);\n          console.log(\"Bokeh: ERROR: Unable to run BokehJS code because BokehJS library is missing\");\n        }\n      }\n    }, 25, root)\n  }\n})(window);</script>",
      "application/vnd.holoviews_exec.v0+json": "",
      "text/plain": ":NdOverlay   [class]\n   :Scatter   [Principal Component 1]   (Principal Component 2,class)"
     },
     "execution_count": 18,
     "metadata": {
      "application/vnd.holoviews_exec.v0+json": {
       "id": "1111"
      }
     },
     "output_type": "execute_result"
    }
   ],
   "source": [
    "df_iris_pca.hvplot.scatter(\n",
    "    x=\"Principal Component 1\",\n",
    "    y=\"Principal Component 2\",\n",
    "    hover_cols=[\"class\"],\n",
    "    by=\"class\",\n",
    ")"
   ],
   "metadata": {
    "collapsed": false,
    "pycharm": {
     "name": "#%%\n"
    }
   }
  },
  {
   "cell_type": "code",
   "execution_count": null,
   "outputs": [],
   "source": [],
   "metadata": {
    "collapsed": false,
    "pycharm": {
     "name": "#%%\n"
    }
   }
  }
 ],
 "metadata": {
  "kernelspec": {
   "display_name": "Python 3",
   "language": "python",
   "name": "python3"
  },
  "language_info": {
   "codemirror_mode": {
    "name": "ipython",
    "version": 2
   },
   "file_extension": ".py",
   "mimetype": "text/x-python",
   "name": "python",
   "nbconvert_exporter": "python",
   "pygments_lexer": "ipython2",
   "version": "2.7.6"
  }
 },
 "nbformat": 4,
 "nbformat_minor": 0
}
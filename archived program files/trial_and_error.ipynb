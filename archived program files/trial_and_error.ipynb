{
 "cells": [
  {
   "cell_type": "code",
   "execution_count": 9,
   "metadata": {
    "collapsed": true,
    "pycharm": {
     "name": "#%%\n"
    }
   },
   "outputs": [],
   "source": [
    "# import our dependencies\n",
    "import pandas as pd\n",
    "from sklearn.cluster import KMeans\n",
    "import plotly.express as px\n",
    "import hvplot.pandas"
   ]
  },
  {
   "cell_type": "code",
   "execution_count": 10,
   "outputs": [
    {
     "data": {
      "text/plain": "   Card_Member   Age  Annual_Income  Spending_Score\n0            1  19.0           15.0            39.0\n1            1  21.0           15.0            81.0\n2            0  20.0           16.0             6.0\n3            0  23.0           16.0            77.0\n4            0  31.0           17.0            40.0\n5            0  22.0           17.0            76.0\n6            0  35.0           18.0             6.0\n7            0  23.0           18.0            94.0\n8            1  64.0           19.0             3.0\n9            0  30.0           19.0            72.0",
      "text/html": "<div>\n<style scoped>\n    .dataframe tbody tr th:only-of-type {\n        vertical-align: middle;\n    }\n\n    .dataframe tbody tr th {\n        vertical-align: top;\n    }\n\n    .dataframe thead th {\n        text-align: right;\n    }\n</style>\n<table border=\"1\" class=\"dataframe\">\n  <thead>\n    <tr style=\"text-align: right;\">\n      <th></th>\n      <th>Card_Member</th>\n      <th>Age</th>\n      <th>Annual_Income</th>\n      <th>Spending_Score</th>\n    </tr>\n  </thead>\n  <tbody>\n    <tr>\n      <th>0</th>\n      <td>1</td>\n      <td>19.0</td>\n      <td>15.0</td>\n      <td>39.0</td>\n    </tr>\n    <tr>\n      <th>1</th>\n      <td>1</td>\n      <td>21.0</td>\n      <td>15.0</td>\n      <td>81.0</td>\n    </tr>\n    <tr>\n      <th>2</th>\n      <td>0</td>\n      <td>20.0</td>\n      <td>16.0</td>\n      <td>6.0</td>\n    </tr>\n    <tr>\n      <th>3</th>\n      <td>0</td>\n      <td>23.0</td>\n      <td>16.0</td>\n      <td>77.0</td>\n    </tr>\n    <tr>\n      <th>4</th>\n      <td>0</td>\n      <td>31.0</td>\n      <td>17.0</td>\n      <td>40.0</td>\n    </tr>\n    <tr>\n      <th>5</th>\n      <td>0</td>\n      <td>22.0</td>\n      <td>17.0</td>\n      <td>76.0</td>\n    </tr>\n    <tr>\n      <th>6</th>\n      <td>0</td>\n      <td>35.0</td>\n      <td>18.0</td>\n      <td>6.0</td>\n    </tr>\n    <tr>\n      <th>7</th>\n      <td>0</td>\n      <td>23.0</td>\n      <td>18.0</td>\n      <td>94.0</td>\n    </tr>\n    <tr>\n      <th>8</th>\n      <td>1</td>\n      <td>64.0</td>\n      <td>19.0</td>\n      <td>3.0</td>\n    </tr>\n    <tr>\n      <th>9</th>\n      <td>0</td>\n      <td>30.0</td>\n      <td>19.0</td>\n      <td>72.0</td>\n    </tr>\n  </tbody>\n</table>\n</div>"
     },
     "execution_count": 10,
     "metadata": {},
     "output_type": "execute_result"
    }
   ],
   "source": [
    "# load the data into a dataframe\n",
    "\n",
    "file_path = \"../cryptocurrencies/shopping_data_cleaned.csv\"\n",
    "\n",
    "df_shopping = pd.read_csv(file_path)\n",
    "df_shopping.head(10)"
   ],
   "metadata": {
    "collapsed": false,
    "pycharm": {
     "name": "#%%\n"
    }
   }
  },
  {
   "cell_type": "code",
   "execution_count": 11,
   "outputs": [
    {
     "data": {},
     "metadata": {},
     "output_type": "display_data"
    },
    {
     "data": {
      "text/html": "<div id='1478'>\n  <div class=\"bk-root\" id=\"929d63b3-acd4-4a4e-9a0a-87ca52846176\" data-root-id=\"1478\"></div>\n</div>\n<script type=\"application/javascript\">(function(root) {\n  function embed_document(root) {\n    var docs_json = {\"59e82b9d-b784-4794-ad3a-71be84937fa5\":{\"defs\":[{\"extends\":null,\"module\":null,\"name\":\"ReactiveHTML1\",\"overrides\":[],\"properties\":[]},{\"extends\":null,\"module\":null,\"name\":\"FlexBox1\",\"overrides\":[],\"properties\":[{\"default\":\"flex-start\",\"kind\":null,\"name\":\"align_content\"},{\"default\":\"flex-start\",\"kind\":null,\"name\":\"align_items\"},{\"default\":\"row\",\"kind\":null,\"name\":\"flex_direction\"},{\"default\":\"wrap\",\"kind\":null,\"name\":\"flex_wrap\"},{\"default\":\"flex-start\",\"kind\":null,\"name\":\"justify_content\"}]},{\"extends\":null,\"module\":null,\"name\":\"GridStack1\",\"overrides\":[],\"properties\":[{\"default\":\"warn\",\"kind\":null,\"name\":\"mode\"},{\"default\":null,\"kind\":null,\"name\":\"ncols\"},{\"default\":null,\"kind\":null,\"name\":\"nrows\"},{\"default\":true,\"kind\":null,\"name\":\"allow_resize\"},{\"default\":true,\"kind\":null,\"name\":\"allow_drag\"},{\"default\":[],\"kind\":null,\"name\":\"state\"}]},{\"extends\":null,\"module\":null,\"name\":\"click1\",\"overrides\":[],\"properties\":[{\"default\":\"\",\"kind\":null,\"name\":\"terminal_output\"},{\"default\":\"\",\"kind\":null,\"name\":\"debug_name\"},{\"default\":0,\"kind\":null,\"name\":\"clears\"}]},{\"extends\":null,\"module\":null,\"name\":\"NotificationAreaBase1\",\"overrides\":[],\"properties\":[{\"default\":\"bottom-right\",\"kind\":null,\"name\":\"position\"},{\"default\":0,\"kind\":null,\"name\":\"_clear\"}]},{\"extends\":null,\"module\":null,\"name\":\"NotificationArea1\",\"overrides\":[],\"properties\":[{\"default\":[],\"kind\":null,\"name\":\"notifications\"},{\"default\":\"bottom-right\",\"kind\":null,\"name\":\"position\"},{\"default\":0,\"kind\":null,\"name\":\"_clear\"},{\"default\":[{\"background\":\"#ffc107\",\"icon\":{\"className\":\"fas fa-exclamation-triangle\",\"color\":\"white\",\"tagName\":\"i\"},\"type\":\"warning\"},{\"background\":\"#007bff\",\"icon\":{\"className\":\"fas fa-info-circle\",\"color\":\"white\",\"tagName\":\"i\"},\"type\":\"info\"}],\"kind\":null,\"name\":\"types\"}]},{\"extends\":null,\"module\":null,\"name\":\"Notification\",\"overrides\":[],\"properties\":[{\"default\":null,\"kind\":null,\"name\":\"background\"},{\"default\":3000,\"kind\":null,\"name\":\"duration\"},{\"default\":null,\"kind\":null,\"name\":\"icon\"},{\"default\":\"\",\"kind\":null,\"name\":\"message\"},{\"default\":null,\"kind\":null,\"name\":\"notification_type\"},{\"default\":false,\"kind\":null,\"name\":\"_destroyed\"}]},{\"extends\":null,\"module\":null,\"name\":\"TemplateActions1\",\"overrides\":[],\"properties\":[{\"default\":0,\"kind\":null,\"name\":\"open_modal\"},{\"default\":0,\"kind\":null,\"name\":\"close_modal\"}]},{\"extends\":null,\"module\":null,\"name\":\"MaterialTemplateActions1\",\"overrides\":[],\"properties\":[{\"default\":0,\"kind\":null,\"name\":\"open_modal\"},{\"default\":0,\"kind\":null,\"name\":\"close_modal\"}]}],\"roots\":{\"references\":[{\"attributes\":{\"end\":108.8,\"reset_end\":108.8,\"reset_start\":-8.8,\"start\":-8.8,\"tags\":[[[\"Spending_Score\",\"Spending_Score\",null]]]},\"id\":\"1481\",\"type\":\"Range1d\"},{\"attributes\":{},\"id\":\"1500\",\"type\":\"SaveTool\"},{\"attributes\":{\"coordinates\":null,\"data_source\":{\"id\":\"1513\"},\"glyph\":{\"id\":\"1516\"},\"group\":null,\"hover_glyph\":null,\"muted_glyph\":{\"id\":\"1518\"},\"nonselection_glyph\":{\"id\":\"1517\"},\"selection_glyph\":{\"id\":\"1521\"},\"view\":{\"id\":\"1520\"}},\"id\":\"1519\",\"type\":\"GlyphRenderer\"},{\"attributes\":{},\"id\":\"1501\",\"type\":\"PanTool\"},{\"attributes\":{},\"id\":\"1504\",\"type\":\"ResetTool\"},{\"attributes\":{},\"id\":\"1502\",\"type\":\"WheelZoomTool\"},{\"attributes\":{},\"id\":\"1514\",\"type\":\"Selection\"},{\"attributes\":{\"coordinates\":null,\"group\":null,\"text_color\":\"black\",\"text_font_size\":\"12pt\"},\"id\":\"1484\",\"type\":\"Title\"},{\"attributes\":{\"overlay\":{\"id\":\"1505\"}},\"id\":\"1503\",\"type\":\"BoxZoomTool\"},{\"attributes\":{\"fill_color\":{\"value\":\"#30a2da\"},\"hatch_color\":{\"value\":\"#30a2da\"},\"line_color\":{\"value\":\"#30a2da\"},\"size\":{\"value\":5.477225575051661},\"x\":{\"field\":\"Annual_Income\"},\"y\":{\"field\":\"Spending_Score\"}},\"id\":\"1516\",\"type\":\"Scatter\"},{\"attributes\":{\"margin\":[5,5,5,5],\"name\":\"HSpacer01277\",\"sizing_mode\":\"stretch_width\"},\"id\":\"1479\",\"type\":\"Spacer\"},{\"attributes\":{},\"id\":\"1535\",\"type\":\"UnionRenderers\"},{\"attributes\":{\"margin\":[5,5,5,5],\"name\":\"HSpacer01278\",\"sizing_mode\":\"stretch_width\"},\"id\":\"1538\",\"type\":\"Spacer\"},{\"attributes\":{\"angle\":{\"value\":0.0},\"fill_alpha\":{\"value\":1.0},\"fill_color\":{\"value\":\"#30a2da\"},\"hatch_alpha\":{\"value\":1.0},\"hatch_color\":{\"value\":\"#30a2da\"},\"hatch_scale\":{\"value\":12.0},\"hatch_weight\":{\"value\":1.0},\"line_alpha\":{\"value\":1.0},\"line_cap\":{\"value\":\"butt\"},\"line_color\":{\"value\":\"#30a2da\"},\"line_dash\":{\"value\":[]},\"line_dash_offset\":{\"value\":0},\"line_join\":{\"value\":\"bevel\"},\"line_width\":{\"value\":1},\"marker\":{\"value\":\"circle\"},\"size\":{\"value\":5.477225575051661},\"x\":{\"field\":\"Annual_Income\"},\"y\":{\"field\":\"Spending_Score\"}},\"id\":\"1521\",\"type\":\"Scatter\"},{\"attributes\":{\"fill_alpha\":{\"value\":0.2},\"fill_color\":{\"value\":\"#30a2da\"},\"hatch_alpha\":{\"value\":0.2},\"hatch_color\":{\"value\":\"#30a2da\"},\"line_alpha\":{\"value\":0.2},\"line_color\":{\"value\":\"#30a2da\"},\"size\":{\"value\":5.477225575051661},\"x\":{\"field\":\"Annual_Income\"},\"y\":{\"field\":\"Spending_Score\"}},\"id\":\"1518\",\"type\":\"Scatter\"},{\"attributes\":{},\"id\":\"1497\",\"type\":\"BasicTicker\"},{\"attributes\":{\"axis\":{\"id\":\"1492\"},\"coordinates\":null,\"grid_line_color\":null,\"group\":null,\"ticker\":null},\"id\":\"1495\",\"type\":\"Grid\"},{\"attributes\":{},\"id\":\"1523\",\"type\":\"BasicTickFormatter\"},{\"attributes\":{},\"id\":\"1493\",\"type\":\"BasicTicker\"},{\"attributes\":{\"axis_label\":\"Spending_Score\",\"coordinates\":null,\"formatter\":{\"id\":\"1526\"},\"group\":null,\"major_label_policy\":{\"id\":\"1527\"},\"ticker\":{\"id\":\"1497\"}},\"id\":\"1496\",\"type\":\"LinearAxis\"},{\"attributes\":{},\"id\":\"1490\",\"type\":\"LinearScale\"},{\"attributes\":{\"tools\":[{\"id\":\"1482\"},{\"id\":\"1500\"},{\"id\":\"1501\"},{\"id\":\"1502\"},{\"id\":\"1503\"},{\"id\":\"1504\"}]},\"id\":\"1506\",\"type\":\"Toolbar\"},{\"attributes\":{},\"id\":\"1527\",\"type\":\"AllLabels\"},{\"attributes\":{\"axis_label\":\"Annual_Income\",\"coordinates\":null,\"formatter\":{\"id\":\"1523\"},\"group\":null,\"major_label_policy\":{\"id\":\"1524\"},\"ticker\":{\"id\":\"1493\"}},\"id\":\"1492\",\"type\":\"LinearAxis\"},{\"attributes\":{\"bottom_units\":\"screen\",\"coordinates\":null,\"fill_alpha\":0.5,\"fill_color\":\"lightgrey\",\"group\":null,\"left_units\":\"screen\",\"level\":\"overlay\",\"line_alpha\":1.0,\"line_color\":\"black\",\"line_dash\":[4,4],\"line_width\":2,\"right_units\":\"screen\",\"syncable\":false,\"top_units\":\"screen\"},\"id\":\"1505\",\"type\":\"BoxAnnotation\"},{\"attributes\":{},\"id\":\"1524\",\"type\":\"AllLabels\"},{\"attributes\":{},\"id\":\"1526\",\"type\":\"BasicTickFormatter\"},{\"attributes\":{},\"id\":\"1488\",\"type\":\"LinearScale\"},{\"attributes\":{\"axis\":{\"id\":\"1496\"},\"coordinates\":null,\"dimension\":1,\"grid_line_color\":null,\"group\":null,\"ticker\":null},\"id\":\"1499\",\"type\":\"Grid\"},{\"attributes\":{\"fill_alpha\":{\"value\":0.1},\"fill_color\":{\"value\":\"#30a2da\"},\"hatch_alpha\":{\"value\":0.1},\"hatch_color\":{\"value\":\"#30a2da\"},\"line_alpha\":{\"value\":0.1},\"line_color\":{\"value\":\"#30a2da\"},\"size\":{\"value\":5.477225575051661},\"x\":{\"field\":\"Annual_Income\"},\"y\":{\"field\":\"Spending_Score\"}},\"id\":\"1517\",\"type\":\"Scatter\"},{\"attributes\":{\"data\":{\"Annual_Income\":{\"__ndarray__\":\"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\",\"dtype\":\"float64\",\"order\":\"little\",\"shape\":[200]},\"Spending_Score\":{\"__ndarray__\":\"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\",\"dtype\":\"float64\",\"order\":\"little\",\"shape\":[200]}},\"selected\":{\"id\":\"1514\"},\"selection_policy\":{\"id\":\"1535\"}},\"id\":\"1513\",\"type\":\"ColumnDataSource\"},{\"attributes\":{\"source\":{\"id\":\"1513\"}},\"id\":\"1520\",\"type\":\"CDSView\"},{\"attributes\":{\"below\":[{\"id\":\"1492\"}],\"center\":[{\"id\":\"1495\"},{\"id\":\"1499\"}],\"height\":300,\"left\":[{\"id\":\"1496\"}],\"margin\":[5,5,5,5],\"min_border_bottom\":10,\"min_border_left\":10,\"min_border_right\":10,\"min_border_top\":10,\"renderers\":[{\"id\":\"1519\"}],\"sizing_mode\":\"fixed\",\"title\":{\"id\":\"1484\"},\"toolbar\":{\"id\":\"1506\"},\"width\":700,\"x_range\":{\"id\":\"1480\"},\"x_scale\":{\"id\":\"1488\"},\"y_range\":{\"id\":\"1481\"},\"y_scale\":{\"id\":\"1490\"}},\"id\":\"1483\",\"subtype\":\"Figure\",\"type\":\"Plot\"},{\"attributes\":{\"end\":142.22857142857143,\"reset_end\":142.22857142857143,\"reset_start\":9.771428571428572,\"start\":9.771428571428572,\"tags\":[[[\"Annual_Income\",\"Annual_Income\",null]]]},\"id\":\"1480\",\"type\":\"Range1d\"},{\"attributes\":{\"callback\":null,\"renderers\":[{\"id\":\"1519\"}],\"tags\":[\"hv_created\"],\"tooltips\":[[\"Annual_Income\",\"@{Annual_Income}\"],[\"Spending_Score\",\"@{Spending_Score}\"]]},\"id\":\"1482\",\"type\":\"HoverTool\"},{\"attributes\":{\"children\":[{\"id\":\"1479\"},{\"id\":\"1483\"},{\"id\":\"1538\"}],\"margin\":[0,0,0,0],\"name\":\"Row01273\",\"tags\":[\"embedded\"]},\"id\":\"1478\",\"type\":\"Row\"}],\"root_ids\":[\"1478\"]},\"title\":\"Bokeh Application\",\"version\":\"2.4.3\"}};\n    var render_items = [{\"docid\":\"59e82b9d-b784-4794-ad3a-71be84937fa5\",\"root_ids\":[\"1478\"],\"roots\":{\"1478\":\"929d63b3-acd4-4a4e-9a0a-87ca52846176\"}}];\n    root.Bokeh.embed.embed_items_notebook(docs_json, render_items);\n  }\n  if (root.Bokeh !== undefined && root.Bokeh.Panel !== undefined) {\n    embed_document(root);\n  } else {\n    var attempts = 0;\n    var timer = setInterval(function(root) {\n      if (root.Bokeh !== undefined && root.Bokeh.Panel !== undefined) {\n        clearInterval(timer);\n        embed_document(root);\n      } else if (document.readyState == \"complete\") {\n        attempts++;\n        if (attempts > 200) {\n          clearInterval(timer);\n          console.log(\"Bokeh: ERROR: Unable to run BokehJS code because BokehJS library is missing\");\n        }\n      }\n    }, 25, root)\n  }\n})(window);</script>",
      "application/vnd.holoviews_exec.v0+json": "",
      "text/plain": ":Scatter   [Annual_Income]   (Spending_Score)"
     },
     "execution_count": 11,
     "metadata": {
      "application/vnd.holoviews_exec.v0+json": {
       "id": "1478"
      }
     },
     "output_type": "execute_result"
    }
   ],
   "source": [
    "df_shopping.hvplot.scatter(x=\"Annual_Income\", y= \"Spending_Score\")"
   ],
   "metadata": {
    "collapsed": false,
    "pycharm": {
     "name": "#%%\n"
    }
   }
  },
  {
   "cell_type": "code",
   "execution_count": 12,
   "outputs": [],
   "source": [
    "# create a function to cluster and plot dataset\n",
    "\n",
    "def test_cluster_amount(df, clusters):\n",
    "    model = KMeans(n_clusters=clusters,random_state=5)\n",
    "    model\n",
    "\n",
    "    #fitting the model\n",
    "    model.fit(df)\n",
    "\n",
    "    # add a new class column to df_shopping\n",
    "    df[\"Class\"] = model.labels_"
   ],
   "metadata": {
    "collapsed": false,
    "pycharm": {
     "name": "#%%\n"
    }
   }
  },
  {
   "cell_type": "code",
   "execution_count": 13,
   "outputs": [
    {
     "data": {},
     "metadata": {},
     "output_type": "display_data"
    },
    {
     "data": {
      "text/html": "<div id='1590'>\n  <div class=\"bk-root\" id=\"161fa940-12cd-4543-b110-32def454a55a\" data-root-id=\"1590\"></div>\n</div>\n<script type=\"application/javascript\">(function(root) {\n  function embed_document(root) {\n    var docs_json = {\"49ef36ff-bda2-4d8b-8000-9194f0ff49eb\":{\"defs\":[{\"extends\":null,\"module\":null,\"name\":\"ReactiveHTML1\",\"overrides\":[],\"properties\":[]},{\"extends\":null,\"module\":null,\"name\":\"FlexBox1\",\"overrides\":[],\"properties\":[{\"default\":\"flex-start\",\"kind\":null,\"name\":\"align_content\"},{\"default\":\"flex-start\",\"kind\":null,\"name\":\"align_items\"},{\"default\":\"row\",\"kind\":null,\"name\":\"flex_direction\"},{\"default\":\"wrap\",\"kind\":null,\"name\":\"flex_wrap\"},{\"default\":\"flex-start\",\"kind\":null,\"name\":\"justify_content\"}]},{\"extends\":null,\"module\":null,\"name\":\"GridStack1\",\"overrides\":[],\"properties\":[{\"default\":\"warn\",\"kind\":null,\"name\":\"mode\"},{\"default\":null,\"kind\":null,\"name\":\"ncols\"},{\"default\":null,\"kind\":null,\"name\":\"nrows\"},{\"default\":true,\"kind\":null,\"name\":\"allow_resize\"},{\"default\":true,\"kind\":null,\"name\":\"allow_drag\"},{\"default\":[],\"kind\":null,\"name\":\"state\"}]},{\"extends\":null,\"module\":null,\"name\":\"click1\",\"overrides\":[],\"properties\":[{\"default\":\"\",\"kind\":null,\"name\":\"terminal_output\"},{\"default\":\"\",\"kind\":null,\"name\":\"debug_name\"},{\"default\":0,\"kind\":null,\"name\":\"clears\"}]},{\"extends\":null,\"module\":null,\"name\":\"NotificationAreaBase1\",\"overrides\":[],\"properties\":[{\"default\":\"bottom-right\",\"kind\":null,\"name\":\"position\"},{\"default\":0,\"kind\":null,\"name\":\"_clear\"}]},{\"extends\":null,\"module\":null,\"name\":\"NotificationArea1\",\"overrides\":[],\"properties\":[{\"default\":[],\"kind\":null,\"name\":\"notifications\"},{\"default\":\"bottom-right\",\"kind\":null,\"name\":\"position\"},{\"default\":0,\"kind\":null,\"name\":\"_clear\"},{\"default\":[{\"background\":\"#ffc107\",\"icon\":{\"className\":\"fas fa-exclamation-triangle\",\"color\":\"white\",\"tagName\":\"i\"},\"type\":\"warning\"},{\"background\":\"#007bff\",\"icon\":{\"className\":\"fas fa-info-circle\",\"color\":\"white\",\"tagName\":\"i\"},\"type\":\"info\"}],\"kind\":null,\"name\":\"types\"}]},{\"extends\":null,\"module\":null,\"name\":\"Notification\",\"overrides\":[],\"properties\":[{\"default\":null,\"kind\":null,\"name\":\"background\"},{\"default\":3000,\"kind\":null,\"name\":\"duration\"},{\"default\":null,\"kind\":null,\"name\":\"icon\"},{\"default\":\"\",\"kind\":null,\"name\":\"message\"},{\"default\":null,\"kind\":null,\"name\":\"notification_type\"},{\"default\":false,\"kind\":null,\"name\":\"_destroyed\"}]},{\"extends\":null,\"module\":null,\"name\":\"TemplateActions1\",\"overrides\":[],\"properties\":[{\"default\":0,\"kind\":null,\"name\":\"open_modal\"},{\"default\":0,\"kind\":null,\"name\":\"close_modal\"}]},{\"extends\":null,\"module\":null,\"name\":\"MaterialTemplateActions1\",\"overrides\":[],\"properties\":[{\"default\":0,\"kind\":null,\"name\":\"open_modal\"},{\"default\":0,\"kind\":null,\"name\":\"close_modal\"}]}],\"roots\":{\"references\":[{\"attributes\":{\"fill_alpha\":{\"value\":0.2},\"fill_color\":{\"value\":\"#30a2da\"},\"hatch_alpha\":{\"value\":0.2},\"hatch_color\":{\"value\":\"#30a2da\"},\"line_alpha\":{\"value\":0.2},\"line_color\":{\"value\":\"#30a2da\"},\"size\":{\"value\":5.477225575051661},\"x\":{\"field\":\"Annual_Income\"},\"y\":{\"field\":\"Spending_Score\"}},\"id\":\"1642\",\"type\":\"Scatter\"},{\"attributes\":{\"fill_color\":{\"value\":\"#6d904f\"},\"hatch_color\":{\"value\":\"#6d904f\"},\"line_color\":{\"value\":\"#6d904f\"},\"size\":{\"value\":5.477225575051661},\"x\":{\"field\":\"Annual_Income\"},\"y\":{\"field\":\"Spending_Score\"}},\"id\":\"1707\",\"type\":\"Scatter\"},{\"attributes\":{\"data\":{\"Annual_Income\":{\"__ndarray__\":\"AAAAAAAALkAAAAAAAAAwQAAAAAAAADFAAAAAAAAAMkAAAAAAAAAzQAAAAAAAADNAAAAAAAAANEAAAAAAAAA0QAAAAAAAADVAAAAAAAAAN0AAAAAAAAA4QAAAAAAAADlAAAAAAAAAPEAAAAAAAAA8QAAAAAAAAD1AAAAAAAAAPkAAAAAAAIBAQAAAAAAAgEBAAAAAAAAAQUAAAAAAAIBCQAAAAAAAAENAAAAAAACAQ0A=\",\"dtype\":\"float64\",\"order\":\"little\",\"shape\":[22]},\"Class\":[4,4,4,4,4,4,4,4,4,4,4,4,4,4,4,4,4,4,4,4,4,4],\"Spending_Score\":{\"__ndarray__\":\"AAAAAABAVEAAAAAAAEBTQAAAAAAAAFNAAAAAAACAV0AAAAAAAABSQAAAAAAAwFhAAAAAAABAU0AAAAAAAMBTQAAAAAAAgFBAAAAAAACAWEAAAAAAAEBSQAAAAAAAQFJAAAAAAACAVEAAAAAAAIBOQAAAAAAAwFVAAAAAAABAUkAAAAAAAABXQAAAAAAAQFRAAAAAAABAUkAAAAAAAMBSQAAAAAAAAFdAAAAAAABAUEA=\",\"dtype\":\"float64\",\"order\":\"little\",\"shape\":[22]}},\"selected\":{\"id\":\"1731\"},\"selection_policy\":{\"id\":\"1753\"}},\"id\":\"1730\",\"type\":\"ColumnDataSource\"},{\"attributes\":{\"tools\":[{\"id\":\"1594\"},{\"id\":\"1618\"},{\"id\":\"1619\"},{\"id\":\"1620\"},{\"id\":\"1621\"},{\"id\":\"1622\"}]},\"id\":\"1624\",\"type\":\"Toolbar\"},{\"attributes\":{\"source\":{\"id\":\"1680\"}},\"id\":\"1687\",\"type\":\"CDSView\"},{\"attributes\":{\"bottom_units\":\"screen\",\"coordinates\":null,\"fill_alpha\":0.5,\"fill_color\":\"lightgrey\",\"group\":null,\"left_units\":\"screen\",\"level\":\"overlay\",\"line_alpha\":1.0,\"line_color\":\"black\",\"line_dash\":[4,4],\"line_width\":2,\"right_units\":\"screen\",\"syncable\":false,\"top_units\":\"screen\"},\"id\":\"1623\",\"type\":\"BoxAnnotation\"},{\"attributes\":{},\"id\":\"1618\",\"type\":\"SaveTool\"},{\"attributes\":{\"data\":{\"Annual_Income\":{\"__ndarray__\":\"AAAAAAAALkAAAAAAAAAwQAAAAAAAADFAAAAAAAAAMkAAAAAAAAAzQAAAAAAAADNAAAAAAAAANEAAAAAAAAA0QAAAAAAAADVAAAAAAAAAN0AAAAAAAAA4QAAAAAAAADlAAAAAAAAAPEAAAAAAAAA8QAAAAAAAAD1AAAAAAAAAPkAAAAAAAIBAQAAAAAAAgEBAAAAAAAAAQUAAAAAAAIBCQAAAAAAAgENAAAAAAACAQ0A=\",\"dtype\":\"float64\",\"order\":\"little\",\"shape\":[22]},\"Class\":[5,5,5,5,5,5,5,5,5,5,5,5,5,5,5,5,5,5,5,5,5,5],\"Spending_Score\":{\"__ndarray__\":\"AAAAAACAQ0AAAAAAAAAYQAAAAAAAAERAAAAAAAAAGEAAAAAAAAAIQAAAAAAAACxAAAAAAAAALkAAAAAAAAAqQAAAAAAAgEFAAAAAAAAAPUAAAAAAAIBBQAAAAAAAABRAAAAAAAAALEAAAAAAAABAQAAAAAAAAD9AAAAAAAAAEEAAAAAAAAAQQAAAAAAAACxAAAAAAAAAMUAAAAAAAAA6QAAAAAAAAEJAAAAAAAAAPEA=\",\"dtype\":\"float64\",\"order\":\"little\",\"shape\":[22]}},\"selected\":{\"id\":\"1759\"},\"selection_policy\":{\"id\":\"1783\"}},\"id\":\"1758\",\"type\":\"ColumnDataSource\"},{\"attributes\":{},\"id\":\"1619\",\"type\":\"PanTool\"},{\"attributes\":{\"coordinates\":null,\"group\":null,\"text_color\":\"black\",\"text_font_size\":\"12pt\"},\"id\":\"1602\",\"type\":\"Title\"},{\"attributes\":{},\"id\":\"1759\",\"type\":\"Selection\"},{\"attributes\":{},\"id\":\"1622\",\"type\":\"ResetTool\"},{\"attributes\":{\"angle\":{\"value\":0.0},\"fill_alpha\":{\"value\":1.0},\"fill_color\":{\"value\":\"#6d904f\"},\"hatch_alpha\":{\"value\":1.0},\"hatch_color\":{\"value\":\"#6d904f\"},\"hatch_scale\":{\"value\":12.0},\"hatch_weight\":{\"value\":1.0},\"line_alpha\":{\"value\":1.0},\"line_cap\":{\"value\":\"butt\"},\"line_color\":{\"value\":\"#6d904f\"},\"line_dash\":{\"value\":[]},\"line_dash_offset\":{\"value\":0},\"line_join\":{\"value\":\"bevel\"},\"line_width\":{\"value\":1},\"marker\":{\"value\":\"circle\"},\"size\":{\"value\":5.477225575051661},\"x\":{\"field\":\"Annual_Income\"},\"y\":{\"field\":\"Spending_Score\"}},\"id\":\"1729\",\"type\":\"Scatter\"},{\"attributes\":{},\"id\":\"1606\",\"type\":\"LinearScale\"},{\"attributes\":{\"coordinates\":null,\"data_source\":{\"id\":\"1730\"},\"glyph\":{\"id\":\"1733\"},\"group\":null,\"hover_glyph\":null,\"muted_glyph\":{\"id\":\"1735\"},\"nonselection_glyph\":{\"id\":\"1734\"},\"selection_glyph\":{\"id\":\"1757\"},\"view\":{\"id\":\"1737\"}},\"id\":\"1736\",\"type\":\"GlyphRenderer\"},{\"attributes\":{},\"id\":\"1620\",\"type\":\"WheelZoomTool\"},{\"attributes\":{\"source\":{\"id\":\"1730\"}},\"id\":\"1737\",\"type\":\"CDSView\"},{\"attributes\":{\"overlay\":{\"id\":\"1623\"}},\"id\":\"1621\",\"type\":\"BoxZoomTool\"},{\"attributes\":{\"coordinates\":null,\"data_source\":{\"id\":\"1680\"},\"glyph\":{\"id\":\"1683\"},\"group\":null,\"hover_glyph\":null,\"muted_glyph\":{\"id\":\"1685\"},\"nonselection_glyph\":{\"id\":\"1684\"},\"selection_glyph\":{\"id\":\"1703\"},\"view\":{\"id\":\"1687\"}},\"id\":\"1686\",\"type\":\"GlyphRenderer\"},{\"attributes\":{},\"id\":\"1705\",\"type\":\"Selection\"},{\"attributes\":{\"data\":{\"Annual_Income\":{\"__ndarray__\":\"AAAAAABAV0AAAAAAAEBYQAAAAAAAgFhAAAAAAADAWEAAAAAAAEBZQAAAAAAAwFlAAAAAAADAWUAAAAAAAEBcQAAAAAAAAF5AAAAAAACAX0AAAAAAACBhQA==\",\"dtype\":\"float64\",\"order\":\"little\",\"shape\":[11]},\"Class\":[1,1,1,1,1,1,1,1,1,1,1],\"Spending_Score\":{\"__ndarray__\":\"AAAAAACAVkAAAAAAAIBVQAAAAAAAAFZAAAAAAABAWEAAAAAAAABRQAAAAAAAQFVAAAAAAABAUUAAAAAAAMBWQAAAAAAAwFNAAAAAAACAUkAAAAAAAMBUQA==\",\"dtype\":\"float64\",\"order\":\"little\",\"shape\":[11]}},\"selected\":{\"id\":\"1659\"},\"selection_policy\":{\"id\":\"1675\"}},\"id\":\"1658\",\"type\":\"ColumnDataSource\"},{\"attributes\":{\"fill_alpha\":{\"value\":0.2},\"fill_color\":{\"value\":\"#17becf\"},\"hatch_alpha\":{\"value\":0.2},\"hatch_color\":{\"value\":\"#17becf\"},\"line_alpha\":{\"value\":0.2},\"line_color\":{\"value\":\"#17becf\"},\"size\":{\"value\":5.477225575051661},\"x\":{\"field\":\"Annual_Income\"},\"y\":{\"field\":\"Spending_Score\"}},\"id\":\"1763\",\"type\":\"Scatter\"},{\"attributes\":{\"fill_alpha\":{\"value\":0.2},\"fill_color\":{\"value\":\"#6d904f\"},\"hatch_alpha\":{\"value\":0.2},\"hatch_color\":{\"value\":\"#6d904f\"},\"line_alpha\":{\"value\":0.2},\"line_color\":{\"value\":\"#6d904f\"},\"size\":{\"value\":5.477225575051661},\"x\":{\"field\":\"Annual_Income\"},\"y\":{\"field\":\"Spending_Score\"}},\"id\":\"1709\",\"type\":\"Scatter\"},{\"attributes\":{\"fill_alpha\":{\"value\":0.1},\"fill_color\":{\"value\":\"#6d904f\"},\"hatch_alpha\":{\"value\":0.1},\"hatch_color\":{\"value\":\"#6d904f\"},\"line_alpha\":{\"value\":0.1},\"line_color\":{\"value\":\"#6d904f\"},\"size\":{\"value\":5.477225575051661},\"x\":{\"field\":\"Annual_Income\"},\"y\":{\"field\":\"Spending_Score\"}},\"id\":\"1708\",\"type\":\"Scatter\"},{\"attributes\":{\"fill_alpha\":{\"value\":0.2},\"fill_color\":{\"value\":\"#fc4f30\"},\"hatch_alpha\":{\"value\":0.2},\"hatch_color\":{\"value\":\"#fc4f30\"},\"line_alpha\":{\"value\":0.2},\"line_color\":{\"value\":\"#fc4f30\"},\"size\":{\"value\":5.477225575051661},\"x\":{\"field\":\"Annual_Income\"},\"y\":{\"field\":\"Spending_Score\"}},\"id\":\"1663\",\"type\":\"Scatter\"},{\"attributes\":{\"coordinates\":null,\"data_source\":{\"id\":\"1704\"},\"glyph\":{\"id\":\"1707\"},\"group\":null,\"hover_glyph\":null,\"muted_glyph\":{\"id\":\"1709\"},\"nonselection_glyph\":{\"id\":\"1708\"},\"selection_glyph\":{\"id\":\"1729\"},\"view\":{\"id\":\"1711\"}},\"id\":\"1710\",\"type\":\"GlyphRenderer\"},{\"attributes\":{\"fill_color\":{\"value\":\"#30a2da\"},\"hatch_color\":{\"value\":\"#30a2da\"},\"line_color\":{\"value\":\"#30a2da\"},\"size\":{\"value\":5.477225575051661},\"x\":{\"field\":\"Annual_Income\"},\"y\":{\"field\":\"Spending_Score\"}},\"id\":\"1640\",\"type\":\"Scatter\"},{\"attributes\":{\"label\":{\"value\":\"0\"},\"renderers\":[{\"id\":\"1643\"}]},\"id\":\"1656\",\"type\":\"LegendItem\"},{\"attributes\":{\"fill_color\":{\"value\":\"#9467bd\"},\"hatch_color\":{\"value\":\"#9467bd\"},\"line_color\":{\"value\":\"#9467bd\"},\"size\":{\"value\":5.477225575051661},\"x\":{\"field\":\"Annual_Income\"},\"y\":{\"field\":\"Spending_Score\"}},\"id\":\"1791\",\"type\":\"Scatter\"},{\"attributes\":{\"fill_alpha\":{\"value\":0.1},\"fill_color\":{\"value\":\"#e5ae38\"},\"hatch_alpha\":{\"value\":0.1},\"hatch_color\":{\"value\":\"#e5ae38\"},\"line_alpha\":{\"value\":0.1},\"line_color\":{\"value\":\"#e5ae38\"},\"size\":{\"value\":5.477225575051661},\"x\":{\"field\":\"Annual_Income\"},\"y\":{\"field\":\"Spending_Score\"}},\"id\":\"1684\",\"type\":\"Scatter\"},{\"attributes\":{},\"id\":\"1681\",\"type\":\"Selection\"},{\"attributes\":{\"fill_alpha\":{\"value\":0.2},\"fill_color\":{\"value\":\"#9467bd\"},\"hatch_alpha\":{\"value\":0.2},\"hatch_color\":{\"value\":\"#9467bd\"},\"line_alpha\":{\"value\":0.2},\"line_color\":{\"value\":\"#9467bd\"},\"size\":{\"value\":5.477225575051661},\"x\":{\"field\":\"Annual_Income\"},\"y\":{\"field\":\"Spending_Score\"}},\"id\":\"1793\",\"type\":\"Scatter\"},{\"attributes\":{\"fill_alpha\":{\"value\":0.1},\"fill_color\":{\"value\":\"#17becf\"},\"hatch_alpha\":{\"value\":0.1},\"hatch_color\":{\"value\":\"#17becf\"},\"line_alpha\":{\"value\":0.1},\"line_color\":{\"value\":\"#17becf\"},\"size\":{\"value\":5.477225575051661},\"x\":{\"field\":\"Annual_Income\"},\"y\":{\"field\":\"Spending_Score\"}},\"id\":\"1762\",\"type\":\"Scatter\"},{\"attributes\":{},\"id\":\"1659\",\"type\":\"Selection\"},{\"attributes\":{},\"id\":\"1633\",\"type\":\"AllLabels\"},{\"attributes\":{},\"id\":\"1652\",\"type\":\"UnionRenderers\"},{\"attributes\":{\"fill_alpha\":{\"value\":0.2},\"fill_color\":{\"value\":\"#e5ae38\"},\"hatch_alpha\":{\"value\":0.2},\"hatch_color\":{\"value\":\"#e5ae38\"},\"line_alpha\":{\"value\":0.2},\"line_color\":{\"value\":\"#e5ae38\"},\"size\":{\"value\":5.477225575051661},\"x\":{\"field\":\"Annual_Income\"},\"y\":{\"field\":\"Spending_Score\"}},\"id\":\"1685\",\"type\":\"Scatter\"},{\"attributes\":{\"margin\":[5,5,5,5],\"name\":\"HSpacer01508\",\"sizing_mode\":\"stretch_width\"},\"id\":\"1591\",\"type\":\"Spacer\"},{\"attributes\":{\"fill_color\":{\"value\":\"#17becf\"},\"hatch_color\":{\"value\":\"#17becf\"},\"line_color\":{\"value\":\"#17becf\"},\"size\":{\"value\":5.477225575051661},\"x\":{\"field\":\"Annual_Income\"},\"y\":{\"field\":\"Spending_Score\"}},\"id\":\"1761\",\"type\":\"Scatter\"},{\"attributes\":{\"children\":[{\"id\":\"1591\"},{\"id\":\"1601\"},{\"id\":\"1842\"}],\"margin\":[0,0,0,0],\"name\":\"Row01504\",\"tags\":[\"embedded\"]},\"id\":\"1590\",\"type\":\"Row\"},{\"attributes\":{\"label\":{\"value\":\"6\"},\"renderers\":[{\"id\":\"1794\"}]},\"id\":\"1818\",\"type\":\"LegendItem\"},{\"attributes\":{\"label\":{\"value\":\"3\"},\"renderers\":[{\"id\":\"1710\"}]},\"id\":\"1728\",\"type\":\"LegendItem\"},{\"attributes\":{},\"id\":\"1815\",\"type\":\"UnionRenderers\"},{\"attributes\":{\"margin\":[5,5,5,5],\"name\":\"HSpacer01509\",\"sizing_mode\":\"stretch_width\"},\"id\":\"1842\",\"type\":\"Spacer\"},{\"attributes\":{\"angle\":{\"value\":0.0},\"fill_alpha\":{\"value\":1.0},\"fill_color\":{\"value\":\"#9467bd\"},\"hatch_alpha\":{\"value\":1.0},\"hatch_color\":{\"value\":\"#9467bd\"},\"hatch_scale\":{\"value\":12.0},\"hatch_weight\":{\"value\":1.0},\"line_alpha\":{\"value\":1.0},\"line_cap\":{\"value\":\"butt\"},\"line_color\":{\"value\":\"#9467bd\"},\"line_dash\":{\"value\":[]},\"line_dash_offset\":{\"value\":0},\"line_join\":{\"value\":\"bevel\"},\"line_width\":{\"value\":1},\"marker\":{\"value\":\"circle\"},\"size\":{\"value\":5.477225575051661},\"x\":{\"field\":\"Annual_Income\"},\"y\":{\"field\":\"Spending_Score\"}},\"id\":\"1819\",\"type\":\"Scatter\"},{\"attributes\":{\"source\":{\"id\":\"1758\"}},\"id\":\"1765\",\"type\":\"CDSView\"},{\"attributes\":{\"data\":{\"Annual_Income\":{\"__ndarray__\":\"AAAAAADAUUAAAAAAAMBRQAAAAAAAwFFAAAAAAABAUkAAAAAAAEBSQAAAAAAAgFJAAAAAAADAUkAAAAAAAEBTQAAAAAAAQFNAAAAAAACAU0AAAAAAAIBTQAAAAAAAgFNAAAAAAACAU0AAAAAAAIBTQAAAAAAAgFNAAAAAAADAU0AAAAAAAEBUQAAAAAAAQFVAAAAAAACAVUAAAAAAAMBVQAAAAAAAwFVAAAAAAADAVUAAAAAAAABWQAAAAAAAAFZAAAAAAABAV0AAAAAAAEBYQAAAAAAAgFhAAAAAAADAWEAAAAAAAEBZQAAAAAAAwFlAAAAAAADAWUAAAAAAAEBcQAAAAAAAAF5AAAAAAACAX0AAAAAAACBhQA==\",\"dtype\":\"float64\",\"order\":\"little\",\"shape\":[35]},\"Class\":[2,2,2,2,2,2,2,2,2,2,2,2,2,2,2,2,2,2,2,2,2,2,2,2,2,2,2,2,2,2,2,2,2,2,2],\"Spending_Score\":{\"__ndarray__\":\"AAAAAACAQUAAAAAAAAAmQAAAAAAAACJAAAAAAAAAFEAAAAAAAAAcQAAAAAAAACRAAAAAAAAAFEAAAAAAAAAoQAAAAAAAAEJAAAAAAAAANkAAAAAAAAAxQAAAAAAAADRAAAAAAAAAMEAAAAAAAADwPwAAAAAAAPA/AAAAAACAQUAAAAAAAAAUQAAAAAAAADpAAAAAAAAANEAAAAAAAAA7QAAAAAAAACpAAAAAAAAAJEAAAAAAAAAqQAAAAAAAAC5AAAAAAAAALEAAAAAAAABAQAAAAAAAAC5AAAAAAACAQ0AAAAAAAAA4QAAAAAAAADFAAAAAAAAAN0AAAAAAAAAgQAAAAAAAADBAAAAAAAAAPEAAAAAAAAAyQA==\",\"dtype\":\"float64\",\"order\":\"little\",\"shape\":[35]}},\"selected\":{\"id\":\"1681\"},\"selection_policy\":{\"id\":\"1699\"}},\"id\":\"1680\",\"type\":\"ColumnDataSource\"},{\"attributes\":{\"data\":{\"Annual_Income\":{\"__ndarray__\":\"AAAAAABAUUAAAAAAAIBRQAAAAAAAwFFAAAAAAADAUUAAAAAAAMBRQAAAAAAAAFJAAAAAAABAUkAAAAAAAEBSQAAAAAAAgFJAAAAAAADAUkAAAAAAAABTQAAAAAAAQFNAAAAAAABAU0AAAAAAAIBTQAAAAAAAgFNAAAAAAACAU0AAAAAAAIBTQAAAAAAAgFNAAAAAAACAU0AAAAAAAMBTQAAAAAAAQFRAAAAAAABAVUAAAAAAAIBVQAAAAAAAwFVAAAAAAADAVUAAAAAAAMBVQAAAAAAAAFZAAAAAAAAAVkA=\",\"dtype\":\"float64\",\"order\":\"little\",\"shape\":[28]},\"Class\":[6,6,6,6,6,6,6,6,6,6,6,6,6,6,6,6,6,6,6,6,6,6,6,6,6,6,6,6],\"Spending_Score\":{\"__ndarray__\":\"AAAAAADAVkAAAAAAAEBTQAAAAAAAwFdAAAAAAADAUkAAAAAAAMBSQAAAAAAAwFFAAAAAAAAAVkAAAAAAAEBSQAAAAAAAAFJAAAAAAABAV0AAAAAAAMBVQAAAAAAAQFhAAAAAAACAUkAAAAAAAIBWQAAAAAAAAFZAAAAAAAAAU0AAAAAAAEBWQAAAAAAAgFNAAAAAAABAUkAAAAAAAMBUQAAAAAAAQFdAAAAAAADAUkAAAAAAAMBXQAAAAAAAgE9AAAAAAADAUkAAAAAAAABXQAAAAAAAgFVAAAAAAABAUUA=\",\"dtype\":\"float64\",\"order\":\"little\",\"shape\":[28]}},\"selected\":{\"id\":\"1789\"},\"selection_policy\":{\"id\":\"1815\"}},\"id\":\"1788\",\"type\":\"ColumnDataSource\"},{\"attributes\":{},\"id\":\"1753\",\"type\":\"UnionRenderers\"},{\"attributes\":{\"fill_color\":{\"value\":\"#fc4f30\"},\"hatch_color\":{\"value\":\"#fc4f30\"},\"line_color\":{\"value\":\"#fc4f30\"},\"size\":{\"value\":5.477225575051661},\"x\":{\"field\":\"Annual_Income\"},\"y\":{\"field\":\"Spending_Score\"}},\"id\":\"1661\",\"type\":\"Scatter\"},{\"attributes\":{},\"id\":\"1783\",\"type\":\"UnionRenderers\"},{\"attributes\":{\"angle\":{\"value\":0.0},\"fill_alpha\":{\"value\":1.0},\"fill_color\":{\"value\":\"#30a2da\"},\"hatch_alpha\":{\"value\":1.0},\"hatch_color\":{\"value\":\"#30a2da\"},\"hatch_scale\":{\"value\":12.0},\"hatch_weight\":{\"value\":1.0},\"line_alpha\":{\"value\":1.0},\"line_cap\":{\"value\":\"butt\"},\"line_color\":{\"value\":\"#30a2da\"},\"line_dash\":{\"value\":[]},\"line_dash_offset\":{\"value\":0},\"line_join\":{\"value\":\"bevel\"},\"line_width\":{\"value\":1},\"marker\":{\"value\":\"circle\"},\"size\":{\"value\":5.477225575051661},\"x\":{\"field\":\"Annual_Income\"},\"y\":{\"field\":\"Spending_Score\"}},\"id\":\"1657\",\"type\":\"Scatter\"},{\"attributes\":{\"label\":{\"value\":\"4\"},\"renderers\":[{\"id\":\"1736\"}]},\"id\":\"1756\",\"type\":\"LegendItem\"},{\"attributes\":{},\"id\":\"1635\",\"type\":\"BasicTickFormatter\"},{\"attributes\":{\"label\":{\"value\":\"5\"},\"renderers\":[{\"id\":\"1764\"}]},\"id\":\"1786\",\"type\":\"LegendItem\"},{\"attributes\":{\"angle\":{\"value\":0.0},\"fill_alpha\":{\"value\":1.0},\"fill_color\":{\"value\":\"#8b8b8b\"},\"hatch_alpha\":{\"value\":1.0},\"hatch_color\":{\"value\":\"#8b8b8b\"},\"hatch_scale\":{\"value\":12.0},\"hatch_weight\":{\"value\":1.0},\"line_alpha\":{\"value\":1.0},\"line_cap\":{\"value\":\"butt\"},\"line_color\":{\"value\":\"#8b8b8b\"},\"line_dash\":{\"value\":[]},\"line_dash_offset\":{\"value\":0},\"line_join\":{\"value\":\"bevel\"},\"line_width\":{\"value\":1},\"marker\":{\"value\":\"circle\"},\"size\":{\"value\":5.477225575051661},\"x\":{\"field\":\"Annual_Income\"},\"y\":{\"field\":\"Spending_Score\"}},\"id\":\"1757\",\"type\":\"Scatter\"},{\"attributes\":{\"source\":{\"id\":\"1637\"}},\"id\":\"1644\",\"type\":\"CDSView\"},{\"attributes\":{\"source\":{\"id\":\"1704\"}},\"id\":\"1711\",\"type\":\"CDSView\"},{\"attributes\":{},\"id\":\"1789\",\"type\":\"Selection\"},{\"attributes\":{\"coordinates\":null,\"data_source\":{\"id\":\"1788\"},\"glyph\":{\"id\":\"1791\"},\"group\":null,\"hover_glyph\":null,\"muted_glyph\":{\"id\":\"1793\"},\"nonselection_glyph\":{\"id\":\"1792\"},\"selection_glyph\":{\"id\":\"1819\"},\"view\":{\"id\":\"1795\"}},\"id\":\"1794\",\"type\":\"GlyphRenderer\"},{\"attributes\":{\"fill_alpha\":{\"value\":0.2},\"fill_color\":{\"value\":\"#8b8b8b\"},\"hatch_alpha\":{\"value\":0.2},\"hatch_color\":{\"value\":\"#8b8b8b\"},\"line_alpha\":{\"value\":0.2},\"line_color\":{\"value\":\"#8b8b8b\"},\"size\":{\"value\":5.477225575051661},\"x\":{\"field\":\"Annual_Income\"},\"y\":{\"field\":\"Spending_Score\"}},\"id\":\"1735\",\"type\":\"Scatter\"},{\"attributes\":{\"coordinates\":null,\"data_source\":{\"id\":\"1637\"},\"glyph\":{\"id\":\"1640\"},\"group\":null,\"hover_glyph\":null,\"muted_glyph\":{\"id\":\"1642\"},\"nonselection_glyph\":{\"id\":\"1641\"},\"selection_glyph\":{\"id\":\"1657\"},\"view\":{\"id\":\"1644\"}},\"id\":\"1643\",\"type\":\"GlyphRenderer\"},{\"attributes\":{\"data\":{\"Annual_Income\":{\"__ndarray__\":\"AAAAAACAQ0AAAAAAAABEQAAAAAAAAERAAAAAAAAAREAAAAAAAABFQAAAAAAAgEVAAAAAAAAAR0AAAAAAAABHQAAAAAAAAEhAAAAAAAAASEAAAAAAAABIQAAAAAAAAEtAAAAAAAAAS0AAAAAAAABLQAAAAAAAAEtAAAAAAAAAS0AAAAAAAIBMQAAAAAAAAE1AAAAAAACATUAAAAAAAABOQAAAAAAAAE5AAAAAAAAATkAAAAAAAABOQAAAAAAAgE5AAAAAAAAAT0AAAAAAAABPQAAAAAAAAE9AAAAAAACAT0AAAAAAAABQQAAAAAAAAFBAAAAAAABAUEAAAAAAAEBQQAAAAAAAwFBAAAAAAADAUEAAAAAAAEBRQAAAAAAAgFFAAAAAAAAAUkAAAAAAAABTQA==\",\"dtype\":\"float64\",\"order\":\"little\",\"shape\":[38]},\"Class\":[3,3,3,3,3,3,3,3,3,3,3,3,3,3,3,3,3,3,3,3,3,3,3,3,3,3,3,3,3,3,3,3,3,3,3,3,3,3],\"Spending_Score\":{\"__ndarray__\":\"AAAAAACATkAAAAAAAIBHQAAAAAAAAEVAAAAAAAAARUAAAAAAAABOQAAAAAAAAEtAAAAAAACASUAAAAAAAIBLQAAAAAAAgE1AAAAAAACATUAAAAAAAIBHQAAAAAAAAEtAAAAAAAAASEAAAAAAAABKQAAAAAAAgEtAAAAAAACATEAAAAAAAIBLQAAAAAAAAE5AAAAAAACAREAAAAAAAABEQAAAAAAAAEVAAAAAAAAASkAAAAAAAABJQAAAAAAAgEhAAAAAAACAREAAAAAAAIBLQAAAAAAAAEVAAAAAAAAAS0AAAAAAAABFQAAAAAAAAEdAAAAAAAAASEAAAAAAAABJQAAAAAAAAExAAAAAAAAAREAAAAAAAABNQAAAAAAAAD1AAAAAAAAAQUAAAAAAAABEQA==\",\"dtype\":\"float64\",\"order\":\"little\",\"shape\":[38]}},\"selected\":{\"id\":\"1705\"},\"selection_policy\":{\"id\":\"1725\"}},\"id\":\"1704\",\"type\":\"ColumnDataSource\"},{\"attributes\":{},\"id\":\"1615\",\"type\":\"BasicTicker\"},{\"attributes\":{\"below\":[{\"id\":\"1610\"}],\"center\":[{\"id\":\"1613\"},{\"id\":\"1617\"}],\"height\":300,\"left\":[{\"id\":\"1614\"}],\"margin\":[5,5,5,5],\"min_border_bottom\":10,\"min_border_left\":10,\"min_border_right\":10,\"min_border_top\":10,\"renderers\":[{\"id\":\"1643\"},{\"id\":\"1664\"},{\"id\":\"1686\"},{\"id\":\"1710\"},{\"id\":\"1736\"},{\"id\":\"1764\"},{\"id\":\"1794\"}],\"right\":[{\"id\":\"1655\"}],\"sizing_mode\":\"fixed\",\"title\":{\"id\":\"1602\"},\"toolbar\":{\"id\":\"1624\"},\"width\":700,\"x_range\":{\"id\":\"1592\"},\"x_scale\":{\"id\":\"1606\"},\"y_range\":{\"id\":\"1593\"},\"y_scale\":{\"id\":\"1608\"}},\"id\":\"1601\",\"subtype\":\"Figure\",\"type\":\"Plot\"},{\"attributes\":{\"axis\":{\"id\":\"1610\"},\"coordinates\":null,\"grid_line_color\":null,\"group\":null,\"ticker\":null},\"id\":\"1613\",\"type\":\"Grid\"},{\"attributes\":{},\"id\":\"1699\",\"type\":\"UnionRenderers\"},{\"attributes\":{\"callback\":null,\"renderers\":[{\"id\":\"1643\"},{\"id\":\"1664\"},{\"id\":\"1686\"},{\"id\":\"1710\"},{\"id\":\"1736\"},{\"id\":\"1764\"},{\"id\":\"1794\"}],\"tags\":[\"hv_created\"],\"tooltips\":[[\"Class\",\"@{Class}\"],[\"Annual_Income\",\"@{Annual_Income}\"],[\"Spending_Score\",\"@{Spending_Score}\"]]},\"id\":\"1594\",\"type\":\"HoverTool\"},{\"attributes\":{},\"id\":\"1611\",\"type\":\"BasicTicker\"},{\"attributes\":{\"angle\":{\"value\":0.0},\"fill_alpha\":{\"value\":1.0},\"fill_color\":{\"value\":\"#17becf\"},\"hatch_alpha\":{\"value\":1.0},\"hatch_color\":{\"value\":\"#17becf\"},\"hatch_scale\":{\"value\":12.0},\"hatch_weight\":{\"value\":1.0},\"line_alpha\":{\"value\":1.0},\"line_cap\":{\"value\":\"butt\"},\"line_color\":{\"value\":\"#17becf\"},\"line_dash\":{\"value\":[]},\"line_dash_offset\":{\"value\":0},\"line_join\":{\"value\":\"bevel\"},\"line_width\":{\"value\":1},\"marker\":{\"value\":\"circle\"},\"size\":{\"value\":5.477225575051661},\"x\":{\"field\":\"Annual_Income\"},\"y\":{\"field\":\"Spending_Score\"}},\"id\":\"1787\",\"type\":\"Scatter\"},{\"attributes\":{\"end\":108.8,\"reset_end\":108.8,\"reset_start\":-8.8,\"start\":-8.8,\"tags\":[[[\"Spending_Score\",\"Spending_Score\",null]]]},\"id\":\"1593\",\"type\":\"Range1d\"},{\"attributes\":{\"axis_label\":\"Spending_Score\",\"coordinates\":null,\"formatter\":{\"id\":\"1635\"},\"group\":null,\"major_label_policy\":{\"id\":\"1636\"},\"ticker\":{\"id\":\"1615\"}},\"id\":\"1614\",\"type\":\"LinearAxis\"},{\"attributes\":{\"fill_color\":{\"value\":\"#e5ae38\"},\"hatch_color\":{\"value\":\"#e5ae38\"},\"line_color\":{\"value\":\"#e5ae38\"},\"size\":{\"value\":5.477225575051661},\"x\":{\"field\":\"Annual_Income\"},\"y\":{\"field\":\"Spending_Score\"}},\"id\":\"1683\",\"type\":\"Scatter\"},{\"attributes\":{},\"id\":\"1608\",\"type\":\"LinearScale\"},{\"attributes\":{},\"id\":\"1675\",\"type\":\"UnionRenderers\"},{\"attributes\":{\"coordinates\":null,\"data_source\":{\"id\":\"1658\"},\"glyph\":{\"id\":\"1661\"},\"group\":null,\"hover_glyph\":null,\"muted_glyph\":{\"id\":\"1663\"},\"nonselection_glyph\":{\"id\":\"1662\"},\"selection_glyph\":{\"id\":\"1679\"},\"view\":{\"id\":\"1665\"}},\"id\":\"1664\",\"type\":\"GlyphRenderer\"},{\"attributes\":{\"fill_alpha\":{\"value\":0.1},\"fill_color\":{\"value\":\"#8b8b8b\"},\"hatch_alpha\":{\"value\":0.1},\"hatch_color\":{\"value\":\"#8b8b8b\"},\"line_alpha\":{\"value\":0.1},\"line_color\":{\"value\":\"#8b8b8b\"},\"size\":{\"value\":5.477225575051661},\"x\":{\"field\":\"Annual_Income\"},\"y\":{\"field\":\"Spending_Score\"}},\"id\":\"1734\",\"type\":\"Scatter\"},{\"attributes\":{\"data\":{\"Annual_Income\":{\"__ndarray__\":\"AAAAAAAAQ0AAAAAAAABEQAAAAAAAAEVAAAAAAACARUAAAAAAAIBFQAAAAAAAgEVAAAAAAAAARkAAAAAAAABGQAAAAAAAAEdAAAAAAAAAR0AAAAAAAIBHQAAAAAAAgEdAAAAAAAAASEAAAAAAAABIQAAAAAAAAEhAAAAAAACASEAAAAAAAIBIQAAAAAAAAElAAAAAAAAASUAAAAAAAABLQAAAAAAAAEtAAAAAAAAAS0AAAAAAAABLQAAAAAAAAEtAAAAAAAAAS0AAAAAAAABLQAAAAAAAgExAAAAAAAAATUAAAAAAAIBNQAAAAAAAAE5AAAAAAAAATkAAAAAAAIBOQAAAAAAAAE9AAAAAAAAAT0AAAAAAAABPQAAAAAAAgE9AAAAAAACAT0AAAAAAAIBPQAAAAAAAgE9AAAAAAACAT0AAAAAAAEBQQAAAAAAAQFBAAAAAAADAUEAAAAAAAMBQQA==\",\"dtype\":\"float64\",\"order\":\"little\",\"shape\":[44]},\"Class\":[0,0,0,0,0,0,0,0,0,0,0,0,0,0,0,0,0,0,0,0,0,0,0,0,0,0,0,0,0,0,0,0,0,0,0,0,0,0,0,0,0,0,0,0],\"Spending_Score\":{\"__ndarray__\":\"AAAAAACAQUAAAAAAAIBLQAAAAAAAAEpAAAAAAAAATkAAAAAAAIBGQAAAAAAAgERAAAAAAAAASUAAAAAAAABHQAAAAAAAAEdAAAAAAAAATEAAAAAAAABKQAAAAAAAgE1AAAAAAACASUAAAAAAAABJQAAAAAAAAEhAAAAAAACAS0AAAAAAAABFQAAAAAAAgEhAAAAAAAAATEAAAAAAAIBHQAAAAAAAgEpAAAAAAAAARUAAAAAAAIBJQAAAAAAAgERAAAAAAAAARkAAAAAAAABHQAAAAAAAAE1AAAAAAAAAR0AAAAAAAIBLQAAAAAAAgEhAAAAAAACAR0AAAAAAAABFQAAAAAAAAEhAAAAAAACATUAAAAAAAABMQAAAAAAAAElAAAAAAAAAR0AAAAAAAIBFQAAAAAAAAEhAAAAAAAAASkAAAAAAAIBFQAAAAAAAgE1AAAAAAACARUAAAAAAAIBMQA==\",\"dtype\":\"float64\",\"order\":\"little\",\"shape\":[44]}},\"selected\":{\"id\":\"1638\"},\"selection_policy\":{\"id\":\"1652\"}},\"id\":\"1637\",\"type\":\"ColumnDataSource\"},{\"attributes\":{\"label\":{\"value\":\"2\"},\"renderers\":[{\"id\":\"1686\"}]},\"id\":\"1702\",\"type\":\"LegendItem\"},{\"attributes\":{\"axis_label\":\"Annual_Income\",\"coordinates\":null,\"formatter\":{\"id\":\"1632\"},\"group\":null,\"major_label_policy\":{\"id\":\"1633\"},\"ticker\":{\"id\":\"1611\"}},\"id\":\"1610\",\"type\":\"LinearAxis\"},{\"attributes\":{\"source\":{\"id\":\"1658\"}},\"id\":\"1665\",\"type\":\"CDSView\"},{\"attributes\":{\"angle\":{\"value\":0.0},\"fill_alpha\":{\"value\":1.0},\"fill_color\":{\"value\":\"#e5ae38\"},\"hatch_alpha\":{\"value\":1.0},\"hatch_color\":{\"value\":\"#e5ae38\"},\"hatch_scale\":{\"value\":12.0},\"hatch_weight\":{\"value\":1.0},\"line_alpha\":{\"value\":1.0},\"line_cap\":{\"value\":\"butt\"},\"line_color\":{\"value\":\"#e5ae38\"},\"line_dash\":{\"value\":[]},\"line_dash_offset\":{\"value\":0},\"line_join\":{\"value\":\"bevel\"},\"line_width\":{\"value\":1},\"marker\":{\"value\":\"circle\"},\"size\":{\"value\":5.477225575051661},\"x\":{\"field\":\"Annual_Income\"},\"y\":{\"field\":\"Spending_Score\"}},\"id\":\"1703\",\"type\":\"Scatter\"},{\"attributes\":{\"angle\":{\"value\":0.0},\"fill_alpha\":{\"value\":1.0},\"fill_color\":{\"value\":\"#fc4f30\"},\"hatch_alpha\":{\"value\":1.0},\"hatch_color\":{\"value\":\"#fc4f30\"},\"hatch_scale\":{\"value\":12.0},\"hatch_weight\":{\"value\":1.0},\"line_alpha\":{\"value\":1.0},\"line_cap\":{\"value\":\"butt\"},\"line_color\":{\"value\":\"#fc4f30\"},\"line_dash\":{\"value\":[]},\"line_dash_offset\":{\"value\":0},\"line_join\":{\"value\":\"bevel\"},\"line_width\":{\"value\":1},\"marker\":{\"value\":\"circle\"},\"size\":{\"value\":5.477225575051661},\"x\":{\"field\":\"Annual_Income\"},\"y\":{\"field\":\"Spending_Score\"}},\"id\":\"1679\",\"type\":\"Scatter\"},{\"attributes\":{\"source\":{\"id\":\"1788\"}},\"id\":\"1795\",\"type\":\"CDSView\"},{\"attributes\":{},\"id\":\"1638\",\"type\":\"Selection\"},{\"attributes\":{},\"id\":\"1725\",\"type\":\"UnionRenderers\"},{\"attributes\":{},\"id\":\"1731\",\"type\":\"Selection\"},{\"attributes\":{\"fill_alpha\":{\"value\":0.1},\"fill_color\":{\"value\":\"#30a2da\"},\"hatch_alpha\":{\"value\":0.1},\"hatch_color\":{\"value\":\"#30a2da\"},\"line_alpha\":{\"value\":0.1},\"line_color\":{\"value\":\"#30a2da\"},\"size\":{\"value\":5.477225575051661},\"x\":{\"field\":\"Annual_Income\"},\"y\":{\"field\":\"Spending_Score\"}},\"id\":\"1641\",\"type\":\"Scatter\"},{\"attributes\":{\"label\":{\"value\":\"1\"},\"renderers\":[{\"id\":\"1664\"}]},\"id\":\"1678\",\"type\":\"LegendItem\"},{\"attributes\":{},\"id\":\"1632\",\"type\":\"BasicTickFormatter\"},{\"attributes\":{\"axis\":{\"id\":\"1614\"},\"coordinates\":null,\"dimension\":1,\"grid_line_color\":null,\"group\":null,\"ticker\":null},\"id\":\"1617\",\"type\":\"Grid\"},{\"attributes\":{\"fill_alpha\":{\"value\":0.1},\"fill_color\":{\"value\":\"#9467bd\"},\"hatch_alpha\":{\"value\":0.1},\"hatch_color\":{\"value\":\"#9467bd\"},\"line_alpha\":{\"value\":0.1},\"line_color\":{\"value\":\"#9467bd\"},\"size\":{\"value\":5.477225575051661},\"x\":{\"field\":\"Annual_Income\"},\"y\":{\"field\":\"Spending_Score\"}},\"id\":\"1792\",\"type\":\"Scatter\"},{\"attributes\":{\"coordinates\":null,\"data_source\":{\"id\":\"1758\"},\"glyph\":{\"id\":\"1761\"},\"group\":null,\"hover_glyph\":null,\"muted_glyph\":{\"id\":\"1763\"},\"nonselection_glyph\":{\"id\":\"1762\"},\"selection_glyph\":{\"id\":\"1787\"},\"view\":{\"id\":\"1765\"}},\"id\":\"1764\",\"type\":\"GlyphRenderer\"},{\"attributes\":{\"fill_color\":{\"value\":\"#8b8b8b\"},\"hatch_color\":{\"value\":\"#8b8b8b\"},\"line_color\":{\"value\":\"#8b8b8b\"},\"size\":{\"value\":5.477225575051661},\"x\":{\"field\":\"Annual_Income\"},\"y\":{\"field\":\"Spending_Score\"}},\"id\":\"1733\",\"type\":\"Scatter\"},{\"attributes\":{},\"id\":\"1636\",\"type\":\"AllLabels\"},{\"attributes\":{\"click_policy\":\"mute\",\"coordinates\":null,\"group\":null,\"items\":[{\"id\":\"1656\"},{\"id\":\"1678\"},{\"id\":\"1702\"},{\"id\":\"1728\"},{\"id\":\"1756\"},{\"id\":\"1786\"},{\"id\":\"1818\"}],\"location\":[0,0],\"title\":\"Class\"},\"id\":\"1655\",\"type\":\"Legend\"},{\"attributes\":{\"end\":142.22857142857143,\"reset_end\":142.22857142857143,\"reset_start\":9.771428571428572,\"start\":9.771428571428572,\"tags\":[[[\"Annual_Income\",\"Annual_Income\",null]]]},\"id\":\"1592\",\"type\":\"Range1d\"},{\"attributes\":{\"fill_alpha\":{\"value\":0.1},\"fill_color\":{\"value\":\"#fc4f30\"},\"hatch_alpha\":{\"value\":0.1},\"hatch_color\":{\"value\":\"#fc4f30\"},\"line_alpha\":{\"value\":0.1},\"line_color\":{\"value\":\"#fc4f30\"},\"size\":{\"value\":5.477225575051661},\"x\":{\"field\":\"Annual_Income\"},\"y\":{\"field\":\"Spending_Score\"}},\"id\":\"1662\",\"type\":\"Scatter\"}],\"root_ids\":[\"1590\"]},\"title\":\"Bokeh Application\",\"version\":\"2.4.3\"}};\n    var render_items = [{\"docid\":\"49ef36ff-bda2-4d8b-8000-9194f0ff49eb\",\"root_ids\":[\"1590\"],\"roots\":{\"1590\":\"161fa940-12cd-4543-b110-32def454a55a\"}}];\n    root.Bokeh.embed.embed_items_notebook(docs_json, render_items);\n  }\n  if (root.Bokeh !== undefined && root.Bokeh.Panel !== undefined) {\n    embed_document(root);\n  } else {\n    var attempts = 0;\n    var timer = setInterval(function(root) {\n      if (root.Bokeh !== undefined && root.Bokeh.Panel !== undefined) {\n        clearInterval(timer);\n        embed_document(root);\n      } else if (document.readyState == \"complete\") {\n        attempts++;\n        if (attempts > 200) {\n          clearInterval(timer);\n          console.log(\"Bokeh: ERROR: Unable to run BokehJS code because BokehJS library is missing\");\n        }\n      }\n    }, 25, root)\n  }\n})(window);</script>",
      "application/vnd.holoviews_exec.v0+json": "",
      "text/plain": ":NdOverlay   [Class]\n   :Scatter   [Annual_Income]   (Spending_Score)"
     },
     "execution_count": 13,
     "metadata": {
      "application/vnd.holoviews_exec.v0+json": {
       "id": "1590"
      }
     },
     "output_type": "execute_result"
    }
   ],
   "source": [
    "# run and test the function\n",
    "test_cluster_amount(df_shopping, 7)\n",
    "df_shopping.hvplot.scatter(x=\"Annual_Income\", y=\"Spending_Score\", by=\"Class\")"
   ],
   "metadata": {
    "collapsed": false,
    "pycharm": {
     "name": "#%%\n"
    }
   }
  },
  {
   "cell_type": "code",
   "execution_count": 15,
   "outputs": [
    {
     "data": {
      "application/vnd.plotly.v1+json": {
       "data": [
        {
         "hovertemplate": "Class=%{marker.color}<br>Annual_Income=%{x}<br>Spending_Score=%{y}<br>Age=%{z}<extra></extra>",
         "legendgroup": "5",
         "marker": {
          "color": [
           5,
           5,
           5,
           5,
           5,
           5,
           5,
           5,
           5,
           5,
           5,
           5,
           5,
           5,
           5,
           5,
           5,
           5,
           5,
           5,
           5,
           5
          ],
          "coloraxis": "coloraxis",
          "symbol": "circle"
         },
         "mode": "markers",
         "name": "5",
         "scene": "scene",
         "showlegend": true,
         "x": [
          15.0,
          16.0,
          17.0,
          18.0,
          19.0,
          19.0,
          20.0,
          20.0,
          21.0,
          23.0,
          24.0,
          25.0,
          28.0,
          28.0,
          29.0,
          30.0,
          33.0,
          33.0,
          34.0,
          37.0,
          39.0,
          39.0
         ],
         "y": [
          39.0,
          6.0,
          40.0,
          6.0,
          3.0,
          14.0,
          15.0,
          13.0,
          35.0,
          29.0,
          35.0,
          5.0,
          14.0,
          32.0,
          31.0,
          4.0,
          4.0,
          14.0,
          17.0,
          26.0,
          36.0,
          28.0
         ],
         "z": [
          19.0,
          20.0,
          31.0,
          35.0,
          64.0,
          67.0,
          58.0,
          37.0,
          35.0,
          52.0,
          35.0,
          46.0,
          54.0,
          45.0,
          40.0,
          60.0,
          53.0,
          49.0,
          42.0,
          36.0,
          48.0,
          49.0
         ],
         "type": "scatter3d"
        },
        {
         "hovertemplate": "Class=%{marker.color}<br>Annual_Income=%{x}<br>Spending_Score=%{y}<br>Age=%{z}<extra></extra>",
         "legendgroup": "4",
         "marker": {
          "color": [
           4,
           4,
           4,
           4,
           4,
           4,
           4,
           4,
           4,
           4,
           4,
           4,
           4,
           4,
           4,
           4,
           4,
           4,
           4,
           4,
           4,
           4
          ],
          "coloraxis": "coloraxis",
          "symbol": "diamond"
         },
         "mode": "markers",
         "name": "4",
         "scene": "scene",
         "showlegend": true,
         "x": [
          15.0,
          16.0,
          17.0,
          18.0,
          19.0,
          19.0,
          20.0,
          20.0,
          21.0,
          23.0,
          24.0,
          25.0,
          28.0,
          28.0,
          29.0,
          30.0,
          33.0,
          33.0,
          34.0,
          37.0,
          38.0,
          39.0
         ],
         "y": [
          81.0,
          77.0,
          76.0,
          94.0,
          72.0,
          99.0,
          77.0,
          79.0,
          66.0,
          98.0,
          73.0,
          73.0,
          82.0,
          61.0,
          87.0,
          73.0,
          92.0,
          81.0,
          73.0,
          75.0,
          92.0,
          65.0
         ],
         "z": [
          21.0,
          23.0,
          22.0,
          23.0,
          30.0,
          35.0,
          24.0,
          22.0,
          20.0,
          35.0,
          25.0,
          31.0,
          29.0,
          35.0,
          23.0,
          21.0,
          18.0,
          21.0,
          30.0,
          20.0,
          24.0,
          24.0
         ],
         "type": "scatter3d"
        },
        {
         "hovertemplate": "Class=%{marker.color}<br>Annual_Income=%{x}<br>Spending_Score=%{y}<br>Age=%{z}<extra></extra>",
         "legendgroup": "0",
         "marker": {
          "color": [
           0,
           0,
           0,
           0,
           0,
           0,
           0,
           0,
           0,
           0,
           0,
           0,
           0,
           0,
           0,
           0,
           0,
           0,
           0,
           0,
           0,
           0,
           0,
           0,
           0,
           0,
           0,
           0,
           0,
           0,
           0,
           0,
           0,
           0,
           0,
           0,
           0,
           0,
           0,
           0,
           0,
           0,
           0,
           0
          ],
          "coloraxis": "coloraxis",
          "symbol": "square"
         },
         "mode": "markers",
         "name": "0",
         "scene": "scene",
         "showlegend": true,
         "x": [
          38.0,
          40.0,
          42.0,
          43.0,
          43.0,
          43.0,
          44.0,
          44.0,
          46.0,
          46.0,
          47.0,
          47.0,
          48.0,
          48.0,
          48.0,
          49.0,
          49.0,
          50.0,
          50.0,
          54.0,
          54.0,
          54.0,
          54.0,
          54.0,
          54.0,
          54.0,
          57.0,
          58.0,
          59.0,
          60.0,
          60.0,
          61.0,
          62.0,
          62.0,
          62.0,
          63.0,
          63.0,
          63.0,
          63.0,
          63.0,
          65.0,
          65.0,
          67.0,
          67.0
         ],
         "y": [
          35.0,
          55.0,
          52.0,
          60.0,
          45.0,
          41.0,
          50.0,
          46.0,
          46.0,
          56.0,
          52.0,
          59.0,
          51.0,
          50.0,
          48.0,
          55.0,
          42.0,
          49.0,
          56.0,
          47.0,
          53.0,
          42.0,
          51.0,
          41.0,
          44.0,
          46.0,
          58.0,
          46.0,
          55.0,
          49.0,
          47.0,
          42.0,
          48.0,
          59.0,
          56.0,
          50.0,
          46.0,
          43.0,
          48.0,
          52.0,
          43.0,
          59.0,
          43.0,
          57.0
         ],
         "z": [
          65.0,
          50.0,
          49.0,
          59.0,
          50.0,
          47.0,
          51.0,
          69.0,
          53.0,
          70.0,
          67.0,
          54.0,
          63.0,
          43.0,
          68.0,
          70.0,
          47.0,
          60.0,
          60.0,
          59.0,
          45.0,
          49.0,
          57.0,
          67.0,
          46.0,
          48.0,
          55.0,
          50.0,
          68.0,
          48.0,
          47.0,
          48.0,
          49.0,
          67.0,
          49.0,
          66.0,
          54.0,
          68.0,
          66.0,
          65.0,
          63.0,
          49.0,
          51.0,
          50.0
         ],
         "type": "scatter3d"
        },
        {
         "hovertemplate": "Class=%{marker.color}<br>Annual_Income=%{x}<br>Spending_Score=%{y}<br>Age=%{z}<extra></extra>",
         "legendgroup": "3",
         "marker": {
          "color": [
           3,
           3,
           3,
           3,
           3,
           3,
           3,
           3,
           3,
           3,
           3,
           3,
           3,
           3,
           3,
           3,
           3,
           3,
           3,
           3,
           3,
           3,
           3,
           3,
           3,
           3,
           3,
           3,
           3,
           3,
           3,
           3,
           3,
           3,
           3,
           3,
           3,
           3
          ],
          "coloraxis": "coloraxis",
          "symbol": "x"
         },
         "mode": "markers",
         "name": "3",
         "scene": "scene",
         "showlegend": true,
         "x": [
          39.0,
          40.0,
          40.0,
          40.0,
          42.0,
          43.0,
          46.0,
          46.0,
          48.0,
          48.0,
          48.0,
          54.0,
          54.0,
          54.0,
          54.0,
          54.0,
          57.0,
          58.0,
          59.0,
          60.0,
          60.0,
          60.0,
          60.0,
          61.0,
          62.0,
          62.0,
          62.0,
          63.0,
          64.0,
          64.0,
          65.0,
          65.0,
          67.0,
          67.0,
          69.0,
          70.0,
          72.0,
          76.0
         ],
         "y": [
          61.0,
          47.0,
          42.0,
          42.0,
          60.0,
          54.0,
          51.0,
          55.0,
          59.0,
          59.0,
          47.0,
          54.0,
          48.0,
          52.0,
          55.0,
          57.0,
          55.0,
          60.0,
          41.0,
          40.0,
          42.0,
          52.0,
          50.0,
          49.0,
          41.0,
          55.0,
          42.0,
          54.0,
          42.0,
          46.0,
          48.0,
          50.0,
          56.0,
          40.0,
          58.0,
          29.0,
          34.0,
          40.0
         ],
         "z": [
          31.0,
          27.0,
          29.0,
          31.0,
          33.0,
          31.0,
          27.0,
          19.0,
          18.0,
          19.0,
          32.0,
          26.0,
          40.0,
          23.0,
          38.0,
          21.0,
          22.0,
          34.0,
          18.0,
          40.0,
          32.0,
          24.0,
          27.0,
          20.0,
          23.0,
          26.0,
          21.0,
          19.0,
          38.0,
          19.0,
          18.0,
          19.0,
          27.0,
          38.0,
          40.0,
          23.0,
          25.0,
          28.0
         ],
         "type": "scatter3d"
        },
        {
         "hovertemplate": "Class=%{marker.color}<br>Annual_Income=%{x}<br>Spending_Score=%{y}<br>Age=%{z}<extra></extra>",
         "legendgroup": "6",
         "marker": {
          "color": [
           6,
           6,
           6,
           6,
           6,
           6,
           6,
           6,
           6,
           6,
           6,
           6,
           6,
           6,
           6,
           6,
           6,
           6,
           6,
           6,
           6,
           6,
           6,
           6,
           6,
           6,
           6,
           6
          ],
          "coloraxis": "coloraxis",
          "symbol": "cross"
         },
         "mode": "markers",
         "name": "6",
         "scene": "scene",
         "showlegend": true,
         "x": [
          69.0,
          70.0,
          71.0,
          71.0,
          71.0,
          72.0,
          73.0,
          73.0,
          74.0,
          75.0,
          76.0,
          77.0,
          77.0,
          78.0,
          78.0,
          78.0,
          78.0,
          78.0,
          78.0,
          79.0,
          81.0,
          85.0,
          86.0,
          87.0,
          87.0,
          87.0,
          88.0,
          88.0
         ],
         "y": [
          91.0,
          77.0,
          95.0,
          75.0,
          75.0,
          71.0,
          88.0,
          73.0,
          72.0,
          93.0,
          87.0,
          97.0,
          74.0,
          90.0,
          88.0,
          76.0,
          89.0,
          78.0,
          73.0,
          83.0,
          93.0,
          75.0,
          95.0,
          63.0,
          75.0,
          92.0,
          86.0,
          69.0
         ],
         "z": [
          39.0,
          31.0,
          40.0,
          38.0,
          39.0,
          31.0,
          29.0,
          32.0,
          35.0,
          32.0,
          32.0,
          28.0,
          32.0,
          34.0,
          39.0,
          38.0,
          27.0,
          30.0,
          30.0,
          29.0,
          31.0,
          36.0,
          33.0,
          32.0,
          28.0,
          36.0,
          30.0,
          27.0
         ],
         "type": "scatter3d"
        },
        {
         "hovertemplate": "Class=%{marker.color}<br>Annual_Income=%{x}<br>Spending_Score=%{y}<br>Age=%{z}<extra></extra>",
         "legendgroup": "2",
         "marker": {
          "color": [
           2,
           2,
           2,
           2,
           2,
           2,
           2,
           2,
           2,
           2,
           2,
           2,
           2,
           2,
           2,
           2,
           2,
           2,
           2,
           2,
           2,
           2,
           2,
           2,
           2,
           2,
           2,
           2,
           2,
           2,
           2,
           2,
           2,
           2,
           2
          ],
          "coloraxis": "coloraxis",
          "symbol": "circle"
         },
         "mode": "markers",
         "name": "2",
         "scene": "scene",
         "showlegend": true,
         "x": [
          71.0,
          71.0,
          71.0,
          73.0,
          73.0,
          74.0,
          75.0,
          77.0,
          77.0,
          78.0,
          78.0,
          78.0,
          78.0,
          78.0,
          78.0,
          79.0,
          81.0,
          85.0,
          86.0,
          87.0,
          87.0,
          87.0,
          88.0,
          88.0,
          93.0,
          97.0,
          98.0,
          99.0,
          101.0,
          103.0,
          103.0,
          113.0,
          120.0,
          126.0,
          137.0
         ],
         "y": [
          35.0,
          11.0,
          9.0,
          5.0,
          7.0,
          10.0,
          5.0,
          12.0,
          36.0,
          22.0,
          17.0,
          20.0,
          16.0,
          1.0,
          1.0,
          35.0,
          5.0,
          26.0,
          20.0,
          27.0,
          13.0,
          10.0,
          13.0,
          15.0,
          14.0,
          32.0,
          15.0,
          39.0,
          24.0,
          17.0,
          23.0,
          8.0,
          16.0,
          28.0,
          18.0
         ],
         "z": [
          43.0,
          59.0,
          47.0,
          20.0,
          44.0,
          19.0,
          57.0,
          25.0,
          48.0,
          34.0,
          43.0,
          44.0,
          47.0,
          37.0,
          34.0,
          56.0,
          19.0,
          50.0,
          42.0,
          36.0,
          40.0,
          36.0,
          52.0,
          58.0,
          59.0,
          37.0,
          46.0,
          41.0,
          54.0,
          41.0,
          34.0,
          33.0,
          47.0,
          45.0,
          32.0
         ],
         "type": "scatter3d"
        },
        {
         "hovertemplate": "Class=%{marker.color}<br>Annual_Income=%{x}<br>Spending_Score=%{y}<br>Age=%{z}<extra></extra>",
         "legendgroup": "1",
         "marker": {
          "color": [
           1,
           1,
           1,
           1,
           1,
           1,
           1,
           1,
           1,
           1,
           1
          ],
          "coloraxis": "coloraxis",
          "symbol": "diamond"
         },
         "mode": "markers",
         "name": "1",
         "scene": "scene",
         "showlegend": true,
         "x": [
          93.0,
          97.0,
          98.0,
          99.0,
          101.0,
          103.0,
          103.0,
          113.0,
          120.0,
          126.0,
          137.0
         ],
         "y": [
          90.0,
          86.0,
          88.0,
          97.0,
          68.0,
          85.0,
          69.0,
          91.0,
          79.0,
          74.0,
          83.0
         ],
         "z": [
          35.0,
          32.0,
          29.0,
          30.0,
          28.0,
          36.0,
          32.0,
          38.0,
          35.0,
          32.0,
          30.0
         ],
         "type": "scatter3d"
        }
       ],
       "layout": {
        "template": {
         "data": {
          "histogram2dcontour": [
           {
            "type": "histogram2dcontour",
            "colorbar": {
             "outlinewidth": 0,
             "ticks": ""
            },
            "colorscale": [
             [
              0.0,
              "#0d0887"
             ],
             [
              0.1111111111111111,
              "#46039f"
             ],
             [
              0.2222222222222222,
              "#7201a8"
             ],
             [
              0.3333333333333333,
              "#9c179e"
             ],
             [
              0.4444444444444444,
              "#bd3786"
             ],
             [
              0.5555555555555556,
              "#d8576b"
             ],
             [
              0.6666666666666666,
              "#ed7953"
             ],
             [
              0.7777777777777778,
              "#fb9f3a"
             ],
             [
              0.8888888888888888,
              "#fdca26"
             ],
             [
              1.0,
              "#f0f921"
             ]
            ]
           }
          ],
          "choropleth": [
           {
            "type": "choropleth",
            "colorbar": {
             "outlinewidth": 0,
             "ticks": ""
            }
           }
          ],
          "histogram2d": [
           {
            "type": "histogram2d",
            "colorbar": {
             "outlinewidth": 0,
             "ticks": ""
            },
            "colorscale": [
             [
              0.0,
              "#0d0887"
             ],
             [
              0.1111111111111111,
              "#46039f"
             ],
             [
              0.2222222222222222,
              "#7201a8"
             ],
             [
              0.3333333333333333,
              "#9c179e"
             ],
             [
              0.4444444444444444,
              "#bd3786"
             ],
             [
              0.5555555555555556,
              "#d8576b"
             ],
             [
              0.6666666666666666,
              "#ed7953"
             ],
             [
              0.7777777777777778,
              "#fb9f3a"
             ],
             [
              0.8888888888888888,
              "#fdca26"
             ],
             [
              1.0,
              "#f0f921"
             ]
            ]
           }
          ],
          "heatmap": [
           {
            "type": "heatmap",
            "colorbar": {
             "outlinewidth": 0,
             "ticks": ""
            },
            "colorscale": [
             [
              0.0,
              "#0d0887"
             ],
             [
              0.1111111111111111,
              "#46039f"
             ],
             [
              0.2222222222222222,
              "#7201a8"
             ],
             [
              0.3333333333333333,
              "#9c179e"
             ],
             [
              0.4444444444444444,
              "#bd3786"
             ],
             [
              0.5555555555555556,
              "#d8576b"
             ],
             [
              0.6666666666666666,
              "#ed7953"
             ],
             [
              0.7777777777777778,
              "#fb9f3a"
             ],
             [
              0.8888888888888888,
              "#fdca26"
             ],
             [
              1.0,
              "#f0f921"
             ]
            ]
           }
          ],
          "heatmapgl": [
           {
            "type": "heatmapgl",
            "colorbar": {
             "outlinewidth": 0,
             "ticks": ""
            },
            "colorscale": [
             [
              0.0,
              "#0d0887"
             ],
             [
              0.1111111111111111,
              "#46039f"
             ],
             [
              0.2222222222222222,
              "#7201a8"
             ],
             [
              0.3333333333333333,
              "#9c179e"
             ],
             [
              0.4444444444444444,
              "#bd3786"
             ],
             [
              0.5555555555555556,
              "#d8576b"
             ],
             [
              0.6666666666666666,
              "#ed7953"
             ],
             [
              0.7777777777777778,
              "#fb9f3a"
             ],
             [
              0.8888888888888888,
              "#fdca26"
             ],
             [
              1.0,
              "#f0f921"
             ]
            ]
           }
          ],
          "contourcarpet": [
           {
            "type": "contourcarpet",
            "colorbar": {
             "outlinewidth": 0,
             "ticks": ""
            }
           }
          ],
          "contour": [
           {
            "type": "contour",
            "colorbar": {
             "outlinewidth": 0,
             "ticks": ""
            },
            "colorscale": [
             [
              0.0,
              "#0d0887"
             ],
             [
              0.1111111111111111,
              "#46039f"
             ],
             [
              0.2222222222222222,
              "#7201a8"
             ],
             [
              0.3333333333333333,
              "#9c179e"
             ],
             [
              0.4444444444444444,
              "#bd3786"
             ],
             [
              0.5555555555555556,
              "#d8576b"
             ],
             [
              0.6666666666666666,
              "#ed7953"
             ],
             [
              0.7777777777777778,
              "#fb9f3a"
             ],
             [
              0.8888888888888888,
              "#fdca26"
             ],
             [
              1.0,
              "#f0f921"
             ]
            ]
           }
          ],
          "surface": [
           {
            "type": "surface",
            "colorbar": {
             "outlinewidth": 0,
             "ticks": ""
            },
            "colorscale": [
             [
              0.0,
              "#0d0887"
             ],
             [
              0.1111111111111111,
              "#46039f"
             ],
             [
              0.2222222222222222,
              "#7201a8"
             ],
             [
              0.3333333333333333,
              "#9c179e"
             ],
             [
              0.4444444444444444,
              "#bd3786"
             ],
             [
              0.5555555555555556,
              "#d8576b"
             ],
             [
              0.6666666666666666,
              "#ed7953"
             ],
             [
              0.7777777777777778,
              "#fb9f3a"
             ],
             [
              0.8888888888888888,
              "#fdca26"
             ],
             [
              1.0,
              "#f0f921"
             ]
            ]
           }
          ],
          "mesh3d": [
           {
            "type": "mesh3d",
            "colorbar": {
             "outlinewidth": 0,
             "ticks": ""
            }
           }
          ],
          "scatter": [
           {
            "marker": {
             "line": {
              "color": "#283442"
             }
            },
            "type": "scatter"
           }
          ],
          "parcoords": [
           {
            "type": "parcoords",
            "line": {
             "colorbar": {
              "outlinewidth": 0,
              "ticks": ""
             }
            }
           }
          ],
          "scatterpolargl": [
           {
            "type": "scatterpolargl",
            "marker": {
             "colorbar": {
              "outlinewidth": 0,
              "ticks": ""
             }
            }
           }
          ],
          "bar": [
           {
            "error_x": {
             "color": "#f2f5fa"
            },
            "error_y": {
             "color": "#f2f5fa"
            },
            "marker": {
             "line": {
              "color": "rgb(17,17,17)",
              "width": 0.5
             },
             "pattern": {
              "fillmode": "overlay",
              "size": 10,
              "solidity": 0.2
             }
            },
            "type": "bar"
           }
          ],
          "scattergeo": [
           {
            "type": "scattergeo",
            "marker": {
             "colorbar": {
              "outlinewidth": 0,
              "ticks": ""
             }
            }
           }
          ],
          "scatterpolar": [
           {
            "type": "scatterpolar",
            "marker": {
             "colorbar": {
              "outlinewidth": 0,
              "ticks": ""
             }
            }
           }
          ],
          "histogram": [
           {
            "marker": {
             "pattern": {
              "fillmode": "overlay",
              "size": 10,
              "solidity": 0.2
             }
            },
            "type": "histogram"
           }
          ],
          "scattergl": [
           {
            "marker": {
             "line": {
              "color": "#283442"
             }
            },
            "type": "scattergl"
           }
          ],
          "scatter3d": [
           {
            "type": "scatter3d",
            "line": {
             "colorbar": {
              "outlinewidth": 0,
              "ticks": ""
             }
            },
            "marker": {
             "colorbar": {
              "outlinewidth": 0,
              "ticks": ""
             }
            }
           }
          ],
          "scattermapbox": [
           {
            "type": "scattermapbox",
            "marker": {
             "colorbar": {
              "outlinewidth": 0,
              "ticks": ""
             }
            }
           }
          ],
          "scatterternary": [
           {
            "type": "scatterternary",
            "marker": {
             "colorbar": {
              "outlinewidth": 0,
              "ticks": ""
             }
            }
           }
          ],
          "scattercarpet": [
           {
            "type": "scattercarpet",
            "marker": {
             "colorbar": {
              "outlinewidth": 0,
              "ticks": ""
             }
            }
           }
          ],
          "carpet": [
           {
            "aaxis": {
             "endlinecolor": "#A2B1C6",
             "gridcolor": "#506784",
             "linecolor": "#506784",
             "minorgridcolor": "#506784",
             "startlinecolor": "#A2B1C6"
            },
            "baxis": {
             "endlinecolor": "#A2B1C6",
             "gridcolor": "#506784",
             "linecolor": "#506784",
             "minorgridcolor": "#506784",
             "startlinecolor": "#A2B1C6"
            },
            "type": "carpet"
           }
          ],
          "table": [
           {
            "cells": {
             "fill": {
              "color": "#506784"
             },
             "line": {
              "color": "rgb(17,17,17)"
             }
            },
            "header": {
             "fill": {
              "color": "#2a3f5f"
             },
             "line": {
              "color": "rgb(17,17,17)"
             }
            },
            "type": "table"
           }
          ],
          "barpolar": [
           {
            "marker": {
             "line": {
              "color": "rgb(17,17,17)",
              "width": 0.5
             },
             "pattern": {
              "fillmode": "overlay",
              "size": 10,
              "solidity": 0.2
             }
            },
            "type": "barpolar"
           }
          ],
          "pie": [
           {
            "automargin": true,
            "type": "pie"
           }
          ]
         },
         "layout": {
          "autotypenumbers": "strict",
          "colorway": [
           "#636efa",
           "#EF553B",
           "#00cc96",
           "#ab63fa",
           "#FFA15A",
           "#19d3f3",
           "#FF6692",
           "#B6E880",
           "#FF97FF",
           "#FECB52"
          ],
          "font": {
           "color": "#f2f5fa"
          },
          "hovermode": "closest",
          "hoverlabel": {
           "align": "left"
          },
          "paper_bgcolor": "rgb(17,17,17)",
          "plot_bgcolor": "rgb(17,17,17)",
          "polar": {
           "bgcolor": "rgb(17,17,17)",
           "angularaxis": {
            "gridcolor": "#506784",
            "linecolor": "#506784",
            "ticks": ""
           },
           "radialaxis": {
            "gridcolor": "#506784",
            "linecolor": "#506784",
            "ticks": ""
           }
          },
          "ternary": {
           "bgcolor": "rgb(17,17,17)",
           "aaxis": {
            "gridcolor": "#506784",
            "linecolor": "#506784",
            "ticks": ""
           },
           "baxis": {
            "gridcolor": "#506784",
            "linecolor": "#506784",
            "ticks": ""
           },
           "caxis": {
            "gridcolor": "#506784",
            "linecolor": "#506784",
            "ticks": ""
           }
          },
          "coloraxis": {
           "colorbar": {
            "outlinewidth": 0,
            "ticks": ""
           }
          },
          "colorscale": {
           "sequential": [
            [
             0.0,
             "#0d0887"
            ],
            [
             0.1111111111111111,
             "#46039f"
            ],
            [
             0.2222222222222222,
             "#7201a8"
            ],
            [
             0.3333333333333333,
             "#9c179e"
            ],
            [
             0.4444444444444444,
             "#bd3786"
            ],
            [
             0.5555555555555556,
             "#d8576b"
            ],
            [
             0.6666666666666666,
             "#ed7953"
            ],
            [
             0.7777777777777778,
             "#fb9f3a"
            ],
            [
             0.8888888888888888,
             "#fdca26"
            ],
            [
             1.0,
             "#f0f921"
            ]
           ],
           "sequentialminus": [
            [
             0.0,
             "#0d0887"
            ],
            [
             0.1111111111111111,
             "#46039f"
            ],
            [
             0.2222222222222222,
             "#7201a8"
            ],
            [
             0.3333333333333333,
             "#9c179e"
            ],
            [
             0.4444444444444444,
             "#bd3786"
            ],
            [
             0.5555555555555556,
             "#d8576b"
            ],
            [
             0.6666666666666666,
             "#ed7953"
            ],
            [
             0.7777777777777778,
             "#fb9f3a"
            ],
            [
             0.8888888888888888,
             "#fdca26"
            ],
            [
             1.0,
             "#f0f921"
            ]
           ],
           "diverging": [
            [
             0,
             "#8e0152"
            ],
            [
             0.1,
             "#c51b7d"
            ],
            [
             0.2,
             "#de77ae"
            ],
            [
             0.3,
             "#f1b6da"
            ],
            [
             0.4,
             "#fde0ef"
            ],
            [
             0.5,
             "#f7f7f7"
            ],
            [
             0.6,
             "#e6f5d0"
            ],
            [
             0.7,
             "#b8e186"
            ],
            [
             0.8,
             "#7fbc41"
            ],
            [
             0.9,
             "#4d9221"
            ],
            [
             1,
             "#276419"
            ]
           ]
          },
          "xaxis": {
           "gridcolor": "#283442",
           "linecolor": "#506784",
           "ticks": "",
           "title": {
            "standoff": 15
           },
           "zerolinecolor": "#283442",
           "automargin": true,
           "zerolinewidth": 2
          },
          "yaxis": {
           "gridcolor": "#283442",
           "linecolor": "#506784",
           "ticks": "",
           "title": {
            "standoff": 15
           },
           "zerolinecolor": "#283442",
           "automargin": true,
           "zerolinewidth": 2
          },
          "scene": {
           "xaxis": {
            "backgroundcolor": "rgb(17,17,17)",
            "gridcolor": "#506784",
            "linecolor": "#506784",
            "showbackground": true,
            "ticks": "",
            "zerolinecolor": "#C8D4E3",
            "gridwidth": 2
           },
           "yaxis": {
            "backgroundcolor": "rgb(17,17,17)",
            "gridcolor": "#506784",
            "linecolor": "#506784",
            "showbackground": true,
            "ticks": "",
            "zerolinecolor": "#C8D4E3",
            "gridwidth": 2
           },
           "zaxis": {
            "backgroundcolor": "rgb(17,17,17)",
            "gridcolor": "#506784",
            "linecolor": "#506784",
            "showbackground": true,
            "ticks": "",
            "zerolinecolor": "#C8D4E3",
            "gridwidth": 2
           }
          },
          "shapedefaults": {
           "line": {
            "color": "#f2f5fa"
           }
          },
          "annotationdefaults": {
           "arrowcolor": "#f2f5fa",
           "arrowhead": 0,
           "arrowwidth": 1
          },
          "geo": {
           "bgcolor": "rgb(17,17,17)",
           "landcolor": "rgb(17,17,17)",
           "subunitcolor": "#506784",
           "showland": true,
           "showlakes": true,
           "lakecolor": "rgb(17,17,17)"
          },
          "title": {
           "x": 0.05
          },
          "updatemenudefaults": {
           "bgcolor": "#506784",
           "borderwidth": 0
          },
          "sliderdefaults": {
           "bgcolor": "#C8D4E3",
           "borderwidth": 1,
           "bordercolor": "rgb(17,17,17)",
           "tickwidth": 0
          },
          "mapbox": {
           "style": "dark"
          }
         }
        },
        "scene": {
         "domain": {
          "x": [
           0.0,
           1.0
          ],
          "y": [
           0.0,
           1.0
          ]
         },
         "xaxis": {
          "title": {
           "text": "Annual_Income"
          }
         },
         "yaxis": {
          "title": {
           "text": "Spending_Score"
          }
         },
         "zaxis": {
          "title": {
           "text": "Age"
          }
         }
        },
        "coloraxis": {
         "colorbar": {
          "title": {
           "text": "Class"
          }
         },
         "colorscale": [
          [
           0.0,
           "#0d0887"
          ],
          [
           0.1111111111111111,
           "#46039f"
          ],
          [
           0.2222222222222222,
           "#7201a8"
          ],
          [
           0.3333333333333333,
           "#9c179e"
          ],
          [
           0.4444444444444444,
           "#bd3786"
          ],
          [
           0.5555555555555556,
           "#d8576b"
          ],
          [
           0.6666666666666666,
           "#ed7953"
          ],
          [
           0.7777777777777778,
           "#fb9f3a"
          ],
          [
           0.8888888888888888,
           "#fdca26"
          ],
          [
           1.0,
           "#f0f921"
          ]
         ]
        },
        "legend": {
         "title": {
          "text": "Class"
         },
         "tracegroupgap": 0,
         "x": 0,
         "y": 1
        },
        "margin": {
         "t": 60
        },
        "width": 800
       },
       "config": {
        "plotlyServerURL": "https://plot.ly"
       }
      },
      "text/html": "<div>                            <div id=\"1f1b8439-7d54-4a2f-9eac-cd0507d18f0e\" class=\"plotly-graph-div\" style=\"height:525px; width:800px;\"></div>            <script type=\"text/javascript\">                require([\"plotly\"], function(Plotly) {                    window.PLOTLYENV=window.PLOTLYENV || {};                                    if (document.getElementById(\"1f1b8439-7d54-4a2f-9eac-cd0507d18f0e\")) {                    Plotly.newPlot(                        \"1f1b8439-7d54-4a2f-9eac-cd0507d18f0e\",                        [{\"hovertemplate\":\"Class=%{marker.color}<br>Annual_Income=%{x}<br>Spending_Score=%{y}<br>Age=%{z}<extra></extra>\",\"legendgroup\":\"5\",\"marker\":{\"color\":[5,5,5,5,5,5,5,5,5,5,5,5,5,5,5,5,5,5,5,5,5,5],\"coloraxis\":\"coloraxis\",\"symbol\":\"circle\"},\"mode\":\"markers\",\"name\":\"5\",\"scene\":\"scene\",\"showlegend\":true,\"x\":[15.0,16.0,17.0,18.0,19.0,19.0,20.0,20.0,21.0,23.0,24.0,25.0,28.0,28.0,29.0,30.0,33.0,33.0,34.0,37.0,39.0,39.0],\"y\":[39.0,6.0,40.0,6.0,3.0,14.0,15.0,13.0,35.0,29.0,35.0,5.0,14.0,32.0,31.0,4.0,4.0,14.0,17.0,26.0,36.0,28.0],\"z\":[19.0,20.0,31.0,35.0,64.0,67.0,58.0,37.0,35.0,52.0,35.0,46.0,54.0,45.0,40.0,60.0,53.0,49.0,42.0,36.0,48.0,49.0],\"type\":\"scatter3d\"},{\"hovertemplate\":\"Class=%{marker.color}<br>Annual_Income=%{x}<br>Spending_Score=%{y}<br>Age=%{z}<extra></extra>\",\"legendgroup\":\"4\",\"marker\":{\"color\":[4,4,4,4,4,4,4,4,4,4,4,4,4,4,4,4,4,4,4,4,4,4],\"coloraxis\":\"coloraxis\",\"symbol\":\"diamond\"},\"mode\":\"markers\",\"name\":\"4\",\"scene\":\"scene\",\"showlegend\":true,\"x\":[15.0,16.0,17.0,18.0,19.0,19.0,20.0,20.0,21.0,23.0,24.0,25.0,28.0,28.0,29.0,30.0,33.0,33.0,34.0,37.0,38.0,39.0],\"y\":[81.0,77.0,76.0,94.0,72.0,99.0,77.0,79.0,66.0,98.0,73.0,73.0,82.0,61.0,87.0,73.0,92.0,81.0,73.0,75.0,92.0,65.0],\"z\":[21.0,23.0,22.0,23.0,30.0,35.0,24.0,22.0,20.0,35.0,25.0,31.0,29.0,35.0,23.0,21.0,18.0,21.0,30.0,20.0,24.0,24.0],\"type\":\"scatter3d\"},{\"hovertemplate\":\"Class=%{marker.color}<br>Annual_Income=%{x}<br>Spending_Score=%{y}<br>Age=%{z}<extra></extra>\",\"legendgroup\":\"0\",\"marker\":{\"color\":[0,0,0,0,0,0,0,0,0,0,0,0,0,0,0,0,0,0,0,0,0,0,0,0,0,0,0,0,0,0,0,0,0,0,0,0,0,0,0,0,0,0,0,0],\"coloraxis\":\"coloraxis\",\"symbol\":\"square\"},\"mode\":\"markers\",\"name\":\"0\",\"scene\":\"scene\",\"showlegend\":true,\"x\":[38.0,40.0,42.0,43.0,43.0,43.0,44.0,44.0,46.0,46.0,47.0,47.0,48.0,48.0,48.0,49.0,49.0,50.0,50.0,54.0,54.0,54.0,54.0,54.0,54.0,54.0,57.0,58.0,59.0,60.0,60.0,61.0,62.0,62.0,62.0,63.0,63.0,63.0,63.0,63.0,65.0,65.0,67.0,67.0],\"y\":[35.0,55.0,52.0,60.0,45.0,41.0,50.0,46.0,46.0,56.0,52.0,59.0,51.0,50.0,48.0,55.0,42.0,49.0,56.0,47.0,53.0,42.0,51.0,41.0,44.0,46.0,58.0,46.0,55.0,49.0,47.0,42.0,48.0,59.0,56.0,50.0,46.0,43.0,48.0,52.0,43.0,59.0,43.0,57.0],\"z\":[65.0,50.0,49.0,59.0,50.0,47.0,51.0,69.0,53.0,70.0,67.0,54.0,63.0,43.0,68.0,70.0,47.0,60.0,60.0,59.0,45.0,49.0,57.0,67.0,46.0,48.0,55.0,50.0,68.0,48.0,47.0,48.0,49.0,67.0,49.0,66.0,54.0,68.0,66.0,65.0,63.0,49.0,51.0,50.0],\"type\":\"scatter3d\"},{\"hovertemplate\":\"Class=%{marker.color}<br>Annual_Income=%{x}<br>Spending_Score=%{y}<br>Age=%{z}<extra></extra>\",\"legendgroup\":\"3\",\"marker\":{\"color\":[3,3,3,3,3,3,3,3,3,3,3,3,3,3,3,3,3,3,3,3,3,3,3,3,3,3,3,3,3,3,3,3,3,3,3,3,3,3],\"coloraxis\":\"coloraxis\",\"symbol\":\"x\"},\"mode\":\"markers\",\"name\":\"3\",\"scene\":\"scene\",\"showlegend\":true,\"x\":[39.0,40.0,40.0,40.0,42.0,43.0,46.0,46.0,48.0,48.0,48.0,54.0,54.0,54.0,54.0,54.0,57.0,58.0,59.0,60.0,60.0,60.0,60.0,61.0,62.0,62.0,62.0,63.0,64.0,64.0,65.0,65.0,67.0,67.0,69.0,70.0,72.0,76.0],\"y\":[61.0,47.0,42.0,42.0,60.0,54.0,51.0,55.0,59.0,59.0,47.0,54.0,48.0,52.0,55.0,57.0,55.0,60.0,41.0,40.0,42.0,52.0,50.0,49.0,41.0,55.0,42.0,54.0,42.0,46.0,48.0,50.0,56.0,40.0,58.0,29.0,34.0,40.0],\"z\":[31.0,27.0,29.0,31.0,33.0,31.0,27.0,19.0,18.0,19.0,32.0,26.0,40.0,23.0,38.0,21.0,22.0,34.0,18.0,40.0,32.0,24.0,27.0,20.0,23.0,26.0,21.0,19.0,38.0,19.0,18.0,19.0,27.0,38.0,40.0,23.0,25.0,28.0],\"type\":\"scatter3d\"},{\"hovertemplate\":\"Class=%{marker.color}<br>Annual_Income=%{x}<br>Spending_Score=%{y}<br>Age=%{z}<extra></extra>\",\"legendgroup\":\"6\",\"marker\":{\"color\":[6,6,6,6,6,6,6,6,6,6,6,6,6,6,6,6,6,6,6,6,6,6,6,6,6,6,6,6],\"coloraxis\":\"coloraxis\",\"symbol\":\"cross\"},\"mode\":\"markers\",\"name\":\"6\",\"scene\":\"scene\",\"showlegend\":true,\"x\":[69.0,70.0,71.0,71.0,71.0,72.0,73.0,73.0,74.0,75.0,76.0,77.0,77.0,78.0,78.0,78.0,78.0,78.0,78.0,79.0,81.0,85.0,86.0,87.0,87.0,87.0,88.0,88.0],\"y\":[91.0,77.0,95.0,75.0,75.0,71.0,88.0,73.0,72.0,93.0,87.0,97.0,74.0,90.0,88.0,76.0,89.0,78.0,73.0,83.0,93.0,75.0,95.0,63.0,75.0,92.0,86.0,69.0],\"z\":[39.0,31.0,40.0,38.0,39.0,31.0,29.0,32.0,35.0,32.0,32.0,28.0,32.0,34.0,39.0,38.0,27.0,30.0,30.0,29.0,31.0,36.0,33.0,32.0,28.0,36.0,30.0,27.0],\"type\":\"scatter3d\"},{\"hovertemplate\":\"Class=%{marker.color}<br>Annual_Income=%{x}<br>Spending_Score=%{y}<br>Age=%{z}<extra></extra>\",\"legendgroup\":\"2\",\"marker\":{\"color\":[2,2,2,2,2,2,2,2,2,2,2,2,2,2,2,2,2,2,2,2,2,2,2,2,2,2,2,2,2,2,2,2,2,2,2],\"coloraxis\":\"coloraxis\",\"symbol\":\"circle\"},\"mode\":\"markers\",\"name\":\"2\",\"scene\":\"scene\",\"showlegend\":true,\"x\":[71.0,71.0,71.0,73.0,73.0,74.0,75.0,77.0,77.0,78.0,78.0,78.0,78.0,78.0,78.0,79.0,81.0,85.0,86.0,87.0,87.0,87.0,88.0,88.0,93.0,97.0,98.0,99.0,101.0,103.0,103.0,113.0,120.0,126.0,137.0],\"y\":[35.0,11.0,9.0,5.0,7.0,10.0,5.0,12.0,36.0,22.0,17.0,20.0,16.0,1.0,1.0,35.0,5.0,26.0,20.0,27.0,13.0,10.0,13.0,15.0,14.0,32.0,15.0,39.0,24.0,17.0,23.0,8.0,16.0,28.0,18.0],\"z\":[43.0,59.0,47.0,20.0,44.0,19.0,57.0,25.0,48.0,34.0,43.0,44.0,47.0,37.0,34.0,56.0,19.0,50.0,42.0,36.0,40.0,36.0,52.0,58.0,59.0,37.0,46.0,41.0,54.0,41.0,34.0,33.0,47.0,45.0,32.0],\"type\":\"scatter3d\"},{\"hovertemplate\":\"Class=%{marker.color}<br>Annual_Income=%{x}<br>Spending_Score=%{y}<br>Age=%{z}<extra></extra>\",\"legendgroup\":\"1\",\"marker\":{\"color\":[1,1,1,1,1,1,1,1,1,1,1],\"coloraxis\":\"coloraxis\",\"symbol\":\"diamond\"},\"mode\":\"markers\",\"name\":\"1\",\"scene\":\"scene\",\"showlegend\":true,\"x\":[93.0,97.0,98.0,99.0,101.0,103.0,103.0,113.0,120.0,126.0,137.0],\"y\":[90.0,86.0,88.0,97.0,68.0,85.0,69.0,91.0,79.0,74.0,83.0],\"z\":[35.0,32.0,29.0,30.0,28.0,36.0,32.0,38.0,35.0,32.0,30.0],\"type\":\"scatter3d\"}],                        {\"template\":{\"data\":{\"histogram2dcontour\":[{\"type\":\"histogram2dcontour\",\"colorbar\":{\"outlinewidth\":0,\"ticks\":\"\"},\"colorscale\":[[0.0,\"#0d0887\"],[0.1111111111111111,\"#46039f\"],[0.2222222222222222,\"#7201a8\"],[0.3333333333333333,\"#9c179e\"],[0.4444444444444444,\"#bd3786\"],[0.5555555555555556,\"#d8576b\"],[0.6666666666666666,\"#ed7953\"],[0.7777777777777778,\"#fb9f3a\"],[0.8888888888888888,\"#fdca26\"],[1.0,\"#f0f921\"]]}],\"choropleth\":[{\"type\":\"choropleth\",\"colorbar\":{\"outlinewidth\":0,\"ticks\":\"\"}}],\"histogram2d\":[{\"type\":\"histogram2d\",\"colorbar\":{\"outlinewidth\":0,\"ticks\":\"\"},\"colorscale\":[[0.0,\"#0d0887\"],[0.1111111111111111,\"#46039f\"],[0.2222222222222222,\"#7201a8\"],[0.3333333333333333,\"#9c179e\"],[0.4444444444444444,\"#bd3786\"],[0.5555555555555556,\"#d8576b\"],[0.6666666666666666,\"#ed7953\"],[0.7777777777777778,\"#fb9f3a\"],[0.8888888888888888,\"#fdca26\"],[1.0,\"#f0f921\"]]}],\"heatmap\":[{\"type\":\"heatmap\",\"colorbar\":{\"outlinewidth\":0,\"ticks\":\"\"},\"colorscale\":[[0.0,\"#0d0887\"],[0.1111111111111111,\"#46039f\"],[0.2222222222222222,\"#7201a8\"],[0.3333333333333333,\"#9c179e\"],[0.4444444444444444,\"#bd3786\"],[0.5555555555555556,\"#d8576b\"],[0.6666666666666666,\"#ed7953\"],[0.7777777777777778,\"#fb9f3a\"],[0.8888888888888888,\"#fdca26\"],[1.0,\"#f0f921\"]]}],\"heatmapgl\":[{\"type\":\"heatmapgl\",\"colorbar\":{\"outlinewidth\":0,\"ticks\":\"\"},\"colorscale\":[[0.0,\"#0d0887\"],[0.1111111111111111,\"#46039f\"],[0.2222222222222222,\"#7201a8\"],[0.3333333333333333,\"#9c179e\"],[0.4444444444444444,\"#bd3786\"],[0.5555555555555556,\"#d8576b\"],[0.6666666666666666,\"#ed7953\"],[0.7777777777777778,\"#fb9f3a\"],[0.8888888888888888,\"#fdca26\"],[1.0,\"#f0f921\"]]}],\"contourcarpet\":[{\"type\":\"contourcarpet\",\"colorbar\":{\"outlinewidth\":0,\"ticks\":\"\"}}],\"contour\":[{\"type\":\"contour\",\"colorbar\":{\"outlinewidth\":0,\"ticks\":\"\"},\"colorscale\":[[0.0,\"#0d0887\"],[0.1111111111111111,\"#46039f\"],[0.2222222222222222,\"#7201a8\"],[0.3333333333333333,\"#9c179e\"],[0.4444444444444444,\"#bd3786\"],[0.5555555555555556,\"#d8576b\"],[0.6666666666666666,\"#ed7953\"],[0.7777777777777778,\"#fb9f3a\"],[0.8888888888888888,\"#fdca26\"],[1.0,\"#f0f921\"]]}],\"surface\":[{\"type\":\"surface\",\"colorbar\":{\"outlinewidth\":0,\"ticks\":\"\"},\"colorscale\":[[0.0,\"#0d0887\"],[0.1111111111111111,\"#46039f\"],[0.2222222222222222,\"#7201a8\"],[0.3333333333333333,\"#9c179e\"],[0.4444444444444444,\"#bd3786\"],[0.5555555555555556,\"#d8576b\"],[0.6666666666666666,\"#ed7953\"],[0.7777777777777778,\"#fb9f3a\"],[0.8888888888888888,\"#fdca26\"],[1.0,\"#f0f921\"]]}],\"mesh3d\":[{\"type\":\"mesh3d\",\"colorbar\":{\"outlinewidth\":0,\"ticks\":\"\"}}],\"scatter\":[{\"marker\":{\"line\":{\"color\":\"#283442\"}},\"type\":\"scatter\"}],\"parcoords\":[{\"type\":\"parcoords\",\"line\":{\"colorbar\":{\"outlinewidth\":0,\"ticks\":\"\"}}}],\"scatterpolargl\":[{\"type\":\"scatterpolargl\",\"marker\":{\"colorbar\":{\"outlinewidth\":0,\"ticks\":\"\"}}}],\"bar\":[{\"error_x\":{\"color\":\"#f2f5fa\"},\"error_y\":{\"color\":\"#f2f5fa\"},\"marker\":{\"line\":{\"color\":\"rgb(17,17,17)\",\"width\":0.5},\"pattern\":{\"fillmode\":\"overlay\",\"size\":10,\"solidity\":0.2}},\"type\":\"bar\"}],\"scattergeo\":[{\"type\":\"scattergeo\",\"marker\":{\"colorbar\":{\"outlinewidth\":0,\"ticks\":\"\"}}}],\"scatterpolar\":[{\"type\":\"scatterpolar\",\"marker\":{\"colorbar\":{\"outlinewidth\":0,\"ticks\":\"\"}}}],\"histogram\":[{\"marker\":{\"pattern\":{\"fillmode\":\"overlay\",\"size\":10,\"solidity\":0.2}},\"type\":\"histogram\"}],\"scattergl\":[{\"marker\":{\"line\":{\"color\":\"#283442\"}},\"type\":\"scattergl\"}],\"scatter3d\":[{\"type\":\"scatter3d\",\"line\":{\"colorbar\":{\"outlinewidth\":0,\"ticks\":\"\"}},\"marker\":{\"colorbar\":{\"outlinewidth\":0,\"ticks\":\"\"}}}],\"scattermapbox\":[{\"type\":\"scattermapbox\",\"marker\":{\"colorbar\":{\"outlinewidth\":0,\"ticks\":\"\"}}}],\"scatterternary\":[{\"type\":\"scatterternary\",\"marker\":{\"colorbar\":{\"outlinewidth\":0,\"ticks\":\"\"}}}],\"scattercarpet\":[{\"type\":\"scattercarpet\",\"marker\":{\"colorbar\":{\"outlinewidth\":0,\"ticks\":\"\"}}}],\"carpet\":[{\"aaxis\":{\"endlinecolor\":\"#A2B1C6\",\"gridcolor\":\"#506784\",\"linecolor\":\"#506784\",\"minorgridcolor\":\"#506784\",\"startlinecolor\":\"#A2B1C6\"},\"baxis\":{\"endlinecolor\":\"#A2B1C6\",\"gridcolor\":\"#506784\",\"linecolor\":\"#506784\",\"minorgridcolor\":\"#506784\",\"startlinecolor\":\"#A2B1C6\"},\"type\":\"carpet\"}],\"table\":[{\"cells\":{\"fill\":{\"color\":\"#506784\"},\"line\":{\"color\":\"rgb(17,17,17)\"}},\"header\":{\"fill\":{\"color\":\"#2a3f5f\"},\"line\":{\"color\":\"rgb(17,17,17)\"}},\"type\":\"table\"}],\"barpolar\":[{\"marker\":{\"line\":{\"color\":\"rgb(17,17,17)\",\"width\":0.5},\"pattern\":{\"fillmode\":\"overlay\",\"size\":10,\"solidity\":0.2}},\"type\":\"barpolar\"}],\"pie\":[{\"automargin\":true,\"type\":\"pie\"}]},\"layout\":{\"autotypenumbers\":\"strict\",\"colorway\":[\"#636efa\",\"#EF553B\",\"#00cc96\",\"#ab63fa\",\"#FFA15A\",\"#19d3f3\",\"#FF6692\",\"#B6E880\",\"#FF97FF\",\"#FECB52\"],\"font\":{\"color\":\"#f2f5fa\"},\"hovermode\":\"closest\",\"hoverlabel\":{\"align\":\"left\"},\"paper_bgcolor\":\"rgb(17,17,17)\",\"plot_bgcolor\":\"rgb(17,17,17)\",\"polar\":{\"bgcolor\":\"rgb(17,17,17)\",\"angularaxis\":{\"gridcolor\":\"#506784\",\"linecolor\":\"#506784\",\"ticks\":\"\"},\"radialaxis\":{\"gridcolor\":\"#506784\",\"linecolor\":\"#506784\",\"ticks\":\"\"}},\"ternary\":{\"bgcolor\":\"rgb(17,17,17)\",\"aaxis\":{\"gridcolor\":\"#506784\",\"linecolor\":\"#506784\",\"ticks\":\"\"},\"baxis\":{\"gridcolor\":\"#506784\",\"linecolor\":\"#506784\",\"ticks\":\"\"},\"caxis\":{\"gridcolor\":\"#506784\",\"linecolor\":\"#506784\",\"ticks\":\"\"}},\"coloraxis\":{\"colorbar\":{\"outlinewidth\":0,\"ticks\":\"\"}},\"colorscale\":{\"sequential\":[[0.0,\"#0d0887\"],[0.1111111111111111,\"#46039f\"],[0.2222222222222222,\"#7201a8\"],[0.3333333333333333,\"#9c179e\"],[0.4444444444444444,\"#bd3786\"],[0.5555555555555556,\"#d8576b\"],[0.6666666666666666,\"#ed7953\"],[0.7777777777777778,\"#fb9f3a\"],[0.8888888888888888,\"#fdca26\"],[1.0,\"#f0f921\"]],\"sequentialminus\":[[0.0,\"#0d0887\"],[0.1111111111111111,\"#46039f\"],[0.2222222222222222,\"#7201a8\"],[0.3333333333333333,\"#9c179e\"],[0.4444444444444444,\"#bd3786\"],[0.5555555555555556,\"#d8576b\"],[0.6666666666666666,\"#ed7953\"],[0.7777777777777778,\"#fb9f3a\"],[0.8888888888888888,\"#fdca26\"],[1.0,\"#f0f921\"]],\"diverging\":[[0,\"#8e0152\"],[0.1,\"#c51b7d\"],[0.2,\"#de77ae\"],[0.3,\"#f1b6da\"],[0.4,\"#fde0ef\"],[0.5,\"#f7f7f7\"],[0.6,\"#e6f5d0\"],[0.7,\"#b8e186\"],[0.8,\"#7fbc41\"],[0.9,\"#4d9221\"],[1,\"#276419\"]]},\"xaxis\":{\"gridcolor\":\"#283442\",\"linecolor\":\"#506784\",\"ticks\":\"\",\"title\":{\"standoff\":15},\"zerolinecolor\":\"#283442\",\"automargin\":true,\"zerolinewidth\":2},\"yaxis\":{\"gridcolor\":\"#283442\",\"linecolor\":\"#506784\",\"ticks\":\"\",\"title\":{\"standoff\":15},\"zerolinecolor\":\"#283442\",\"automargin\":true,\"zerolinewidth\":2},\"scene\":{\"xaxis\":{\"backgroundcolor\":\"rgb(17,17,17)\",\"gridcolor\":\"#506784\",\"linecolor\":\"#506784\",\"showbackground\":true,\"ticks\":\"\",\"zerolinecolor\":\"#C8D4E3\",\"gridwidth\":2},\"yaxis\":{\"backgroundcolor\":\"rgb(17,17,17)\",\"gridcolor\":\"#506784\",\"linecolor\":\"#506784\",\"showbackground\":true,\"ticks\":\"\",\"zerolinecolor\":\"#C8D4E3\",\"gridwidth\":2},\"zaxis\":{\"backgroundcolor\":\"rgb(17,17,17)\",\"gridcolor\":\"#506784\",\"linecolor\":\"#506784\",\"showbackground\":true,\"ticks\":\"\",\"zerolinecolor\":\"#C8D4E3\",\"gridwidth\":2}},\"shapedefaults\":{\"line\":{\"color\":\"#f2f5fa\"}},\"annotationdefaults\":{\"arrowcolor\":\"#f2f5fa\",\"arrowhead\":0,\"arrowwidth\":1},\"geo\":{\"bgcolor\":\"rgb(17,17,17)\",\"landcolor\":\"rgb(17,17,17)\",\"subunitcolor\":\"#506784\",\"showland\":true,\"showlakes\":true,\"lakecolor\":\"rgb(17,17,17)\"},\"title\":{\"x\":0.05},\"updatemenudefaults\":{\"bgcolor\":\"#506784\",\"borderwidth\":0},\"sliderdefaults\":{\"bgcolor\":\"#C8D4E3\",\"borderwidth\":1,\"bordercolor\":\"rgb(17,17,17)\",\"tickwidth\":0},\"mapbox\":{\"style\":\"dark\"}}},\"scene\":{\"domain\":{\"x\":[0.0,1.0],\"y\":[0.0,1.0]},\"xaxis\":{\"title\":{\"text\":\"Annual_Income\"}},\"yaxis\":{\"title\":{\"text\":\"Spending_Score\"}},\"zaxis\":{\"title\":{\"text\":\"Age\"}}},\"coloraxis\":{\"colorbar\":{\"title\":{\"text\":\"Class\"}},\"colorscale\":[[0.0,\"#0d0887\"],[0.1111111111111111,\"#46039f\"],[0.2222222222222222,\"#7201a8\"],[0.3333333333333333,\"#9c179e\"],[0.4444444444444444,\"#bd3786\"],[0.5555555555555556,\"#d8576b\"],[0.6666666666666666,\"#ed7953\"],[0.7777777777777778,\"#fb9f3a\"],[0.8888888888888888,\"#fdca26\"],[1.0,\"#f0f921\"]]},\"legend\":{\"title\":{\"text\":\"Class\"},\"tracegroupgap\":0,\"x\":0,\"y\":1},\"margin\":{\"t\":60},\"width\":800},                        {\"responsive\": true}                    ).then(function(){\n                            \nvar gd = document.getElementById('1f1b8439-7d54-4a2f-9eac-cd0507d18f0e');\nvar x = new MutationObserver(function (mutations, observer) {{\n        var display = window.getComputedStyle(gd).display;\n        if (!display || display === 'none') {{\n            console.log([gd, 'removed!']);\n            Plotly.purge(gd);\n            observer.disconnect();\n        }}\n}});\n\n// Listen for the removal of the full notebook cells\nvar notebookContainer = gd.closest('#notebook-container');\nif (notebookContainer) {{\n    x.observe(notebookContainer, {childList: true});\n}}\n\n// Listen for the clearing of the current output cell\nvar outputEl = gd.closest('.output');\nif (outputEl) {{\n    x.observe(outputEl, {childList: true});\n}}\n\n                        })                };                });            </script>        </div>"
     },
     "metadata": {},
     "output_type": "display_data"
    }
   ],
   "source": [
    "# create a third axes to review the clusters\n",
    "fig = px.scatter_3d(df_shopping,\n",
    "                    x=\"Annual_Income\",\n",
    "                    y=\"Spending_Score\",\n",
    "                    z= \"Age\",\n",
    "                    color='Class',\n",
    "                    symbol='Class',\n",
    "                    width=800,)\n",
    "fig.update_layout(legend=dict(x=0, y=1))\n",
    "\n",
    "\n",
    "fig.show()"
   ],
   "metadata": {
    "collapsed": false,
    "pycharm": {
     "name": "#%%\n"
    }
   }
  },
  {
   "cell_type": "code",
   "execution_count": null,
   "outputs": [],
   "source": [],
   "metadata": {
    "collapsed": false,
    "pycharm": {
     "name": "#%%\n"
    }
   }
  }
 ],
 "metadata": {
  "kernelspec": {
   "display_name": "Python 3",
   "language": "python",
   "name": "python3"
  },
  "language_info": {
   "codemirror_mode": {
    "name": "ipython",
    "version": 2
   },
   "file_extension": ".py",
   "mimetype": "text/x-python",
   "name": "python",
   "nbconvert_exporter": "python",
   "pygments_lexer": "ipython2",
   "version": "2.7.6"
  }
 },
 "nbformat": 4,
 "nbformat_minor": 0
}